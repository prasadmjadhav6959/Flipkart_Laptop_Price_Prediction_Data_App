{
 "cells": [
  {
   "cell_type": "markdown",
   "id": "3bade399",
   "metadata": {},
   "source": [
    "### Problem Statement\n",
    "- **Elon Musk has started his own laptop company (Tesla Laptop) in India. He wants to give tough fights to big companies like Apple, Alienware, HP etc.**\n",
    "- **He does not know how to estimate the price of laptops his company creates. In this competitive laptop market you cannot simply assume things.**\n",
    "- **Musk wants to find out some relation between features of a Laptop(eg:- RAM, OS etc) and its selling price. But he is not so good at Data Mining.**\n",
    "- **To solve this problem he already asked his Data Engineering team to collect laptop data from various competitors.**\n",
    "- **Now he needs your (i.e Data Scientist’s) help to solve the following problem.**\n",
    "\n",
    "#### Step- 1 (Data Analysis and Mining)\n",
    "- Musk’s Requirements \n",
    "    1. Build an interface (using streamlit) for Elon Musk where he can enter the laptop features like RAM Size, RAM Type, HDD, OS, etc. and get the price prediction.\n",
    "    2. Based on your Data Analysis and MIning skills, give recommendations to Elon Musk on how the pricing works in the laptop market.\n",
    "\n",
    "\n",
    "#### Sprint - 2 (ML Model Tuning)\n",
    "- Now he wants you to test the models you have created for Underfitting and Overfitting. He wants you to build a best fit model.\n",
    "    1. First try to check if the models you have created are a best fit or not.\n",
    "    2. See if applying cross validation helps improve your models performance."
   ]
  },
  {
   "cell_type": "markdown",
   "id": "464a7e56",
   "metadata": {},
   "source": [
    "### Task 3_Flipkart Laptop Data_Business Insights on Product Pricing\n",
    "`Prasad Jadhav`"
   ]
  },
  {
   "cell_type": "code",
   "execution_count": 1,
   "id": "08005dec",
   "metadata": {},
   "outputs": [],
   "source": [
    "import pandas as pd\n",
    "import numpy as np\n",
    "import re\n",
    "\n",
    "import matplotlib.pyplot as plt\n",
    "import seaborn as sns"
   ]
  },
  {
   "cell_type": "code",
   "execution_count": 2,
   "id": "3d62bfe8",
   "metadata": {},
   "outputs": [],
   "source": [
    "from sklearn.model_selection import train_test_split\n",
    "\n",
    "# from sklearn.compose import ColumnTransformer\n",
    "# from sklearn.pipeline import Pipeline\n",
    "# from sklearn.preprocessing import OneHotEncoder\n",
    "from sklearn.preprocessing import StandardScaler\n",
    "from sklearn.preprocessing import MinMaxScaler\n",
    "from sklearn import metrics\n",
    "from sklearn.metrics import r2_score\n",
    "from sklearn.metrics import mean_absolute_error\n",
    "from sklearn.metrics import mean_squared_error\n",
    "\n",
    "from sklearn.model_selection import cross_val_score\n",
    "from sklearn.model_selection import KFold\n",
    "from sklearn.model_selection import ShuffleSplit\n",
    "\n",
    "from sklearn.linear_model import LinearRegression\n",
    "from sklearn.linear_model import Ridge\n",
    "# from sklearn.linear_model import Lasso\n",
    "from sklearn.neighbors import KNeighborsRegressor\n",
    "from sklearn.tree import DecisionTreeRegressor\n",
    "from sklearn.ensemble import RandomForestRegressor\n",
    "from sklearn.ensemble import GradientBoostingRegressor\n",
    "from sklearn.ensemble import AdaBoostRegressor\n",
    "from sklearn.ensemble import ExtraTreesRegressor\n",
    "from sklearn.svm import SVR\n",
    "from xgboost import XGBRegressor\n",
    "\n",
    "from sklearn.ensemble import VotingRegressor\n",
    "from sklearn.ensemble import StackingRegressor\n",
    "\n",
    "from sklearn.model_selection import GridSearchCV\n",
    "from sklearn.model_selection import RandomizedSearchCV\n",
    "\n",
    "import pickle\n",
    "import joblib"
   ]
  },
  {
   "cell_type": "code",
   "execution_count": 3,
   "id": "9a2b7c2f",
   "metadata": {},
   "outputs": [],
   "source": [
    "import warnings\n",
    "warnings.filterwarnings('ignore')"
   ]
  },
  {
   "cell_type": "code",
   "execution_count": 4,
   "id": "fd113daf",
   "metadata": {},
   "outputs": [
    {
     "data": {
      "text/plain": [
       "(720, 4)"
      ]
     },
     "execution_count": 4,
     "metadata": {},
     "output_type": "execute_result"
    }
   ],
   "source": [
    "dataset = pd.read_csv('laptop_details.csv')\n",
    "dataset.shape"
   ]
  },
  {
   "cell_type": "code",
   "execution_count": 5,
   "id": "1adc0601",
   "metadata": {},
   "outputs": [
    {
     "data": {
      "text/html": [
       "<div>\n",
       "<style scoped>\n",
       "    .dataframe tbody tr th:only-of-type {\n",
       "        vertical-align: middle;\n",
       "    }\n",
       "\n",
       "    .dataframe tbody tr th {\n",
       "        vertical-align: top;\n",
       "    }\n",
       "\n",
       "    .dataframe thead th {\n",
       "        text-align: right;\n",
       "    }\n",
       "</style>\n",
       "<table border=\"1\" class=\"dataframe\">\n",
       "  <thead>\n",
       "    <tr style=\"text-align: right;\">\n",
       "      <th></th>\n",
       "      <th>Product</th>\n",
       "      <th>Rating</th>\n",
       "      <th>MRP</th>\n",
       "      <th>Feature</th>\n",
       "    </tr>\n",
       "  </thead>\n",
       "  <tbody>\n",
       "    <tr>\n",
       "      <th>0</th>\n",
       "      <td>Lenovo IdeaPad 3 Core i3 11th Gen - (8 GB/256 ...</td>\n",
       "      <td>4.2</td>\n",
       "      <td>₹36,990</td>\n",
       "      <td>Intel Core i3 Processor (11th Gen)8 GB DDR4 RA...</td>\n",
       "    </tr>\n",
       "    <tr>\n",
       "      <th>1</th>\n",
       "      <td>Lenovo IdeaPad 3 Core i3 11th Gen - (8 GB/512 ...</td>\n",
       "      <td>4.2</td>\n",
       "      <td>₹39,990</td>\n",
       "      <td>Intel Core i3 Processor (11th Gen)8 GB DDR4 RA...</td>\n",
       "    </tr>\n",
       "    <tr>\n",
       "      <th>2</th>\n",
       "      <td>ASUS VivoBook 15 (2022) Core i3 10th Gen - (8 ...</td>\n",
       "      <td>4.3</td>\n",
       "      <td>₹32,990</td>\n",
       "      <td>Intel Core i3 Processor (10th Gen)8 GB DDR4 RA...</td>\n",
       "    </tr>\n",
       "    <tr>\n",
       "      <th>3</th>\n",
       "      <td>HP Pavilion Ryzen 5 Hexa Core AMD R5-5600H - (...</td>\n",
       "      <td>4.4</td>\n",
       "      <td>₹49,990</td>\n",
       "      <td>AMD Ryzen 5 Hexa Core Processor8 GB DDR4 RAM64...</td>\n",
       "    </tr>\n",
       "    <tr>\n",
       "      <th>4</th>\n",
       "      <td>ASUS TUF Gaming F15 Core i5 10th Gen - (8 GB/5...</td>\n",
       "      <td>4.4</td>\n",
       "      <td>₹49,990</td>\n",
       "      <td>Intel Core i5 Processor (10th Gen)8 GB DDR4 RA...</td>\n",
       "    </tr>\n",
       "  </tbody>\n",
       "</table>\n",
       "</div>"
      ],
      "text/plain": [
       "                                             Product  Rating      MRP  \\\n",
       "0  Lenovo IdeaPad 3 Core i3 11th Gen - (8 GB/256 ...     4.2  ₹36,990   \n",
       "1  Lenovo IdeaPad 3 Core i3 11th Gen - (8 GB/512 ...     4.2  ₹39,990   \n",
       "2  ASUS VivoBook 15 (2022) Core i3 10th Gen - (8 ...     4.3  ₹32,990   \n",
       "3  HP Pavilion Ryzen 5 Hexa Core AMD R5-5600H - (...     4.4  ₹49,990   \n",
       "4  ASUS TUF Gaming F15 Core i5 10th Gen - (8 GB/5...     4.4  ₹49,990   \n",
       "\n",
       "                                             Feature  \n",
       "0  Intel Core i3 Processor (11th Gen)8 GB DDR4 RA...  \n",
       "1  Intel Core i3 Processor (11th Gen)8 GB DDR4 RA...  \n",
       "2  Intel Core i3 Processor (10th Gen)8 GB DDR4 RA...  \n",
       "3  AMD Ryzen 5 Hexa Core Processor8 GB DDR4 RAM64...  \n",
       "4  Intel Core i5 Processor (10th Gen)8 GB DDR4 RA...  "
      ]
     },
     "execution_count": 5,
     "metadata": {},
     "output_type": "execute_result"
    }
   ],
   "source": [
    "dataset.head()"
   ]
  },
  {
   "cell_type": "code",
   "execution_count": 6,
   "id": "e0787306",
   "metadata": {},
   "outputs": [
    {
     "data": {
      "text/html": [
       "<div>\n",
       "<style scoped>\n",
       "    .dataframe tbody tr th:only-of-type {\n",
       "        vertical-align: middle;\n",
       "    }\n",
       "\n",
       "    .dataframe tbody tr th {\n",
       "        vertical-align: top;\n",
       "    }\n",
       "\n",
       "    .dataframe thead th {\n",
       "        text-align: right;\n",
       "    }\n",
       "</style>\n",
       "<table border=\"1\" class=\"dataframe\">\n",
       "  <thead>\n",
       "    <tr style=\"text-align: right;\">\n",
       "      <th></th>\n",
       "      <th>Product</th>\n",
       "      <th>Rating</th>\n",
       "      <th>MRP</th>\n",
       "      <th>Feature</th>\n",
       "    </tr>\n",
       "  </thead>\n",
       "  <tbody>\n",
       "    <tr>\n",
       "      <th>715</th>\n",
       "      <td>ASUS Chromebook Flip Touch Celeron Dual Core -...</td>\n",
       "      <td>4.0</td>\n",
       "      <td>₹23,490</td>\n",
       "      <td>Intel Celeron Dual Core Processor4 GB LPDDR4 R...</td>\n",
       "    </tr>\n",
       "    <tr>\n",
       "      <th>716</th>\n",
       "      <td>Lenovo IdeaPad Gaming 3 Ryzen 7 Octa Core AMD ...</td>\n",
       "      <td>4.5</td>\n",
       "      <td>₹73,490</td>\n",
       "      <td>AMD Ryzen 7 Octa Core Processor8 GB DDR4 RAM64...</td>\n",
       "    </tr>\n",
       "    <tr>\n",
       "      <th>717</th>\n",
       "      <td>ASUS ROG Zephyrus G15 Ryzen 9 Octa Core 6900HS...</td>\n",
       "      <td>NaN</td>\n",
       "      <td>₹1,94,990</td>\n",
       "      <td>AMD Ryzen 9 Octa Core Processor16 GB DDR5 RAM6...</td>\n",
       "    </tr>\n",
       "    <tr>\n",
       "      <th>718</th>\n",
       "      <td>ASUS Zenbook Flip 14 OLED (2022) Touch Panel C...</td>\n",
       "      <td>3.0</td>\n",
       "      <td>₹1,25,990</td>\n",
       "      <td>Intel Core i7 Processor (12th Gen)16 GB LPDDR5...</td>\n",
       "    </tr>\n",
       "    <tr>\n",
       "      <th>719</th>\n",
       "      <td>Lenovo Ideapad Slim 3i Core i5 10th Gen - (8 G...</td>\n",
       "      <td>4.2</td>\n",
       "      <td>₹50,990</td>\n",
       "      <td>Intel Core i5 Processor (10th Gen)8 GB DDR4 RA...</td>\n",
       "    </tr>\n",
       "  </tbody>\n",
       "</table>\n",
       "</div>"
      ],
      "text/plain": [
       "                                               Product  Rating        MRP  \\\n",
       "715  ASUS Chromebook Flip Touch Celeron Dual Core -...     4.0    ₹23,490   \n",
       "716  Lenovo IdeaPad Gaming 3 Ryzen 7 Octa Core AMD ...     4.5    ₹73,490   \n",
       "717  ASUS ROG Zephyrus G15 Ryzen 9 Octa Core 6900HS...     NaN  ₹1,94,990   \n",
       "718  ASUS Zenbook Flip 14 OLED (2022) Touch Panel C...     3.0  ₹1,25,990   \n",
       "719  Lenovo Ideapad Slim 3i Core i5 10th Gen - (8 G...     4.2    ₹50,990   \n",
       "\n",
       "                                               Feature  \n",
       "715  Intel Celeron Dual Core Processor4 GB LPDDR4 R...  \n",
       "716  AMD Ryzen 7 Octa Core Processor8 GB DDR4 RAM64...  \n",
       "717  AMD Ryzen 9 Octa Core Processor16 GB DDR5 RAM6...  \n",
       "718  Intel Core i7 Processor (12th Gen)16 GB LPDDR5...  \n",
       "719  Intel Core i5 Processor (10th Gen)8 GB DDR4 RA...  "
      ]
     },
     "execution_count": 6,
     "metadata": {},
     "output_type": "execute_result"
    }
   ],
   "source": [
    "dataset.tail()"
   ]
  },
  {
   "cell_type": "markdown",
   "id": "eded7125",
   "metadata": {},
   "source": [
    "`Sprint - 1 (Data Analysis and Mining)`"
   ]
  },
  {
   "cell_type": "code",
   "execution_count": 7,
   "id": "9949212b",
   "metadata": {},
   "outputs": [
    {
     "name": "stdout",
     "output_type": "stream",
     "text": [
      "<class 'pandas.core.frame.DataFrame'>\n",
      "RangeIndex: 720 entries, 0 to 719\n",
      "Data columns (total 4 columns):\n",
      " #   Column   Non-Null Count  Dtype  \n",
      "---  ------   --------------  -----  \n",
      " 0   Product  720 non-null    object \n",
      " 1   Rating   581 non-null    float64\n",
      " 2   MRP      720 non-null    object \n",
      " 3   Feature  720 non-null    object \n",
      "dtypes: float64(1), object(3)\n",
      "memory usage: 22.6+ KB\n"
     ]
    }
   ],
   "source": [
    "dataset.info()"
   ]
  },
  {
   "cell_type": "code",
   "execution_count": 8,
   "id": "22488470",
   "metadata": {},
   "outputs": [
    {
     "data": {
      "text/plain": [
       "Product      0\n",
       "Rating     139\n",
       "MRP          0\n",
       "Feature      0\n",
       "dtype: int64"
      ]
     },
     "execution_count": 8,
     "metadata": {},
     "output_type": "execute_result"
    }
   ],
   "source": [
    "dataset.isnull().sum()"
   ]
  },
  {
   "cell_type": "code",
   "execution_count": 9,
   "id": "3ce7b531",
   "metadata": {},
   "outputs": [
    {
     "data": {
      "text/plain": [
       "297"
      ]
     },
     "execution_count": 9,
     "metadata": {},
     "output_type": "execute_result"
    }
   ],
   "source": [
    "dataset.duplicated().sum()"
   ]
  },
  {
   "cell_type": "code",
   "execution_count": 5,
   "id": "2316a55d",
   "metadata": {},
   "outputs": [],
   "source": [
    "dataset.MRP = dataset.MRP.apply(lambda x : x.replace('₹', '').replace(',', '')).astype(int)"
   ]
  },
  {
   "cell_type": "code",
   "execution_count": 11,
   "id": "1a681fcd",
   "metadata": {},
   "outputs": [
    {
     "data": {
      "text/html": [
       "<div>\n",
       "<style scoped>\n",
       "    .dataframe tbody tr th:only-of-type {\n",
       "        vertical-align: middle;\n",
       "    }\n",
       "\n",
       "    .dataframe tbody tr th {\n",
       "        vertical-align: top;\n",
       "    }\n",
       "\n",
       "    .dataframe thead th {\n",
       "        text-align: right;\n",
       "    }\n",
       "</style>\n",
       "<table border=\"1\" class=\"dataframe\">\n",
       "  <thead>\n",
       "    <tr style=\"text-align: right;\">\n",
       "      <th></th>\n",
       "      <th>Product</th>\n",
       "      <th>Rating</th>\n",
       "      <th>MRP</th>\n",
       "      <th>Feature</th>\n",
       "    </tr>\n",
       "  </thead>\n",
       "  <tbody>\n",
       "    <tr>\n",
       "      <th>0</th>\n",
       "      <td>Lenovo IdeaPad 3 Core i3 11th Gen - (8 GB/256 ...</td>\n",
       "      <td>4.2</td>\n",
       "      <td>36990</td>\n",
       "      <td>Intel Core i3 Processor (11th Gen)8 GB DDR4 RA...</td>\n",
       "    </tr>\n",
       "    <tr>\n",
       "      <th>1</th>\n",
       "      <td>Lenovo IdeaPad 3 Core i3 11th Gen - (8 GB/512 ...</td>\n",
       "      <td>4.2</td>\n",
       "      <td>39990</td>\n",
       "      <td>Intel Core i3 Processor (11th Gen)8 GB DDR4 RA...</td>\n",
       "    </tr>\n",
       "    <tr>\n",
       "      <th>2</th>\n",
       "      <td>ASUS VivoBook 15 (2022) Core i3 10th Gen - (8 ...</td>\n",
       "      <td>4.3</td>\n",
       "      <td>32990</td>\n",
       "      <td>Intel Core i3 Processor (10th Gen)8 GB DDR4 RA...</td>\n",
       "    </tr>\n",
       "    <tr>\n",
       "      <th>3</th>\n",
       "      <td>HP Pavilion Ryzen 5 Hexa Core AMD R5-5600H - (...</td>\n",
       "      <td>4.4</td>\n",
       "      <td>49990</td>\n",
       "      <td>AMD Ryzen 5 Hexa Core Processor8 GB DDR4 RAM64...</td>\n",
       "    </tr>\n",
       "    <tr>\n",
       "      <th>4</th>\n",
       "      <td>ASUS TUF Gaming F15 Core i5 10th Gen - (8 GB/5...</td>\n",
       "      <td>4.4</td>\n",
       "      <td>49990</td>\n",
       "      <td>Intel Core i5 Processor (10th Gen)8 GB DDR4 RA...</td>\n",
       "    </tr>\n",
       "  </tbody>\n",
       "</table>\n",
       "</div>"
      ],
      "text/plain": [
       "                                             Product  Rating    MRP  \\\n",
       "0  Lenovo IdeaPad 3 Core i3 11th Gen - (8 GB/256 ...     4.2  36990   \n",
       "1  Lenovo IdeaPad 3 Core i3 11th Gen - (8 GB/512 ...     4.2  39990   \n",
       "2  ASUS VivoBook 15 (2022) Core i3 10th Gen - (8 ...     4.3  32990   \n",
       "3  HP Pavilion Ryzen 5 Hexa Core AMD R5-5600H - (...     4.4  49990   \n",
       "4  ASUS TUF Gaming F15 Core i5 10th Gen - (8 GB/5...     4.4  49990   \n",
       "\n",
       "                                             Feature  \n",
       "0  Intel Core i3 Processor (11th Gen)8 GB DDR4 RA...  \n",
       "1  Intel Core i3 Processor (11th Gen)8 GB DDR4 RA...  \n",
       "2  Intel Core i3 Processor (10th Gen)8 GB DDR4 RA...  \n",
       "3  AMD Ryzen 5 Hexa Core Processor8 GB DDR4 RAM64...  \n",
       "4  Intel Core i5 Processor (10th Gen)8 GB DDR4 RA...  "
      ]
     },
     "execution_count": 11,
     "metadata": {},
     "output_type": "execute_result"
    }
   ],
   "source": [
    "dataset.head()"
   ]
  },
  {
   "cell_type": "code",
   "execution_count": 12,
   "id": "11f28241",
   "metadata": {},
   "outputs": [
    {
     "data": {
      "text/plain": [
       "count       720.000000\n",
       "mean      81605.837500\n",
       "std       61552.955102\n",
       "min       14990.000000\n",
       "25%       38996.750000\n",
       "50%       59990.000000\n",
       "75%       95240.000000\n",
       "max      434830.000000\n",
       "Name: MRP, dtype: float64"
      ]
     },
     "execution_count": 12,
     "metadata": {},
     "output_type": "execute_result"
    }
   ],
   "source": [
    "dataset['MRP'].describe()"
   ]
  },
  {
   "cell_type": "code",
   "execution_count": 13,
   "id": "aaf0a573",
   "metadata": {},
   "outputs": [
    {
     "data": {
      "image/png": "[encoded data removed]",
      "text/plain": [
       "<Figure size 432x288 with 1 Axes>"
      ]
     },
     "metadata": {
      "needs_background": "light"
     },
     "output_type": "display_data"
    }
   ],
   "source": [
    "dataset['MRP'].plot(kind='kde')\n",
    "plt.show()"
   ]
  },
  {
   "cell_type": "code",
   "execution_count": 14,
   "id": "0cc09efb",
   "metadata": {},
   "outputs": [
    {
     "data": {
      "image/png": "[encoded data removed]",
      "text/plain": [
       "<Figure size 432x288 with 1 Axes>"
      ]
     },
     "metadata": {
      "needs_background": "light"
     },
     "output_type": "display_data"
    }
   ],
   "source": [
    "dataset['MRP'].plot(kind='box')\n",
    "plt.show()"
   ]
  },
  {
   "cell_type": "code",
   "execution_count": 6,
   "id": "b1e9f51f",
   "metadata": {},
   "outputs": [],
   "source": [
    "regex = r'^\\w+'\n",
    "\n",
    "dataset['Brand'] = dataset['Product'].apply(lambda x : re.findall(regex, x))\n",
    "dataset['Brand'] = dataset['Brand'].apply(lambda x : ''.join(x))"
   ]
  },
  {
   "cell_type": "code",
   "execution_count": 7,
   "id": "05de58c8",
   "metadata": {},
   "outputs": [],
   "source": [
    "regex = r'^(?:AMD|Intel|M1|Apple)[\\s\\w]+Processor'\n",
    "\n",
    "dataset['Processor_Type'] = dataset['Feature'].apply(lambda x : re.findall(regex, x))\n",
    "dataset['Processor_Type'] = dataset['Processor_Type'].apply(lambda x : ''.join(x))\n",
    "dataset['Processor_Type'] = dataset['Processor_Type'].apply(lambda x : x.replace(' Processor', ''))"
   ]
  },
  {
   "cell_type": "code",
   "execution_count": 8,
   "id": "ee00ab93",
   "metadata": {},
   "outputs": [],
   "source": [
    "regex = r'[\\d]+\\s(?:GB|TB)\\s(?:HDD|SSD)'\n",
    "\n",
    "dataset['Storage'] = dataset['Feature'].apply(lambda x : re.findall(regex, x))\n",
    "dataset['Storage'] = dataset['Storage'].apply(lambda x : ''.join(x))"
   ]
  },
  {
   "cell_type": "code",
   "execution_count": 9,
   "id": "2a7d7cc0",
   "metadata": {},
   "outputs": [
    {
     "data": {
      "text/plain": [
       "Intel Core i5              150\n",
       "Intel Core i3              129\n",
       "AMD Ryzen 9 Octa Core       87\n",
       "AMD Ryzen 7 Octa Core       79\n",
       "Intel Core i7               49\n",
       "AMD Ryzen 5 Hexa Core       48\n",
       "AMD Ryzen 3 Dual Core       42\n",
       "AMD Ryzen 5 Quad Core       37\n",
       "                            32\n",
       "Intel Celeron Dual Core     20\n",
       "Intel Core i9               10\n",
       "Apple M1                     7\n",
       "Apple M1 Pro                 6\n",
       "Apple M2                     5\n",
       "AMD Ryzen 3 Quad Core        4\n",
       "Intel Celeron Quad Core      3\n",
       "Intel Pentium Quad Core      3\n",
       "AMD Athlon Dual Core         2\n",
       "Intel Pentium Silver         2\n",
       "Apple M1 Max                 1\n",
       "AMD Ryzen 7 Quad Core        1\n",
       "AMD Ryzen 5 Dual Core        1\n",
       "AMD Dual Core                1\n",
       "AMD Ryzen 3 Hexa Core        1\n",
       "Name: Processor_Type, dtype: int64"
      ]
     },
     "execution_count": 9,
     "metadata": {},
     "output_type": "execute_result"
    }
   ],
   "source": [
    "dataset['Processor_Type'].value_counts()"
   ]
  },
  {
   "cell_type": "code",
   "execution_count": 10,
   "id": "01eaa6c1",
   "metadata": {},
   "outputs": [],
   "source": [
    "regex = r'[\\d]+[\\s]bit[\\s\\w]+Operating System|[\\(Windows)\\d\\s]+Operating System|[\\(Chrome|Mac OS)]+Operating System'\n",
    "\n",
    "dataset['Operating_System'] = dataset['Feature'].apply(lambda x : re.findall(regex, x))\n",
    "dataset['Operating_System'] = dataset['Operating_System'].apply(lambda x : ''.join(x))\n",
    "dataset['Operating_System'] = dataset['Operating_System'].apply(lambda x : x.replace(' Operating_System', ''))"
   ]
  },
  {
   "cell_type": "code",
   "execution_count": 11,
   "id": "dc281620",
   "metadata": {},
   "outputs": [
    {
     "data": {
      "text/plain": [
       "64 bit Windows 11 Operating System                                404\n",
       "Windows 11 Operating System                                       156\n",
       "64 bit Windows 10 Operating System                                115\n",
       "MMac OS Operating System                                           19\n",
       "Windows 10 Operating System                                        12\n",
       "MChrome Operating System                                            6\n",
       "OS Operating System                                                 2\n",
       "64 bit DOS Operating System                                         2\n",
       "32 bit Windows 11 Operating System                                  1\n",
       "5Operating System64 bit Windows 10 Operating System                 1\n",
       " Windows 10 Operating System64 bit Windows 10 Operating System      1\n",
       "64 bit Chrome Operating System                                      1\n",
       "Name: Operating_System, dtype: int64"
      ]
     },
     "execution_count": 11,
     "metadata": {},
     "output_type": "execute_result"
    }
   ],
   "source": [
    "dataset['Operating_System'].value_counts()"
   ]
  },
  {
   "cell_type": "code",
   "execution_count": 12,
   "id": "0b31b8e3",
   "metadata": {},
   "outputs": [],
   "source": [
    "regex = r'\\d+\\sGB[\\s\\w]+RAM'\n",
    "\n",
    "dataset['RAM'] = dataset['Feature'].apply(lambda x : re.findall(regex, x))\n",
    "dataset.RAM = dataset.RAM.apply(lambda x : ''.join(x))"
   ]
  },
  {
   "cell_type": "code",
   "execution_count": 13,
   "id": "6c830cbb",
   "metadata": {},
   "outputs": [
    {
     "name": "stdout",
     "output_type": "stream",
     "text": [
      "                                               Product  Rating     MRP  \\\n",
      "6    DELL Inspiron Core i3 11th Gen - (8 GB/1 TB HD...     4.3   38990   \n",
      "8    realme Book (Slim) Core i3 11th Gen - (8 GB/25...     4.4   46990   \n",
      "29   realme Book (Slim) Core i3 11th Gen - (8 GB/25...     4.4   46990   \n",
      "33   acer Aspire 7 Ryzen 5 Hexa Core AMD R5-5500U -...     4.4   47990   \n",
      "53   realme Book(Slim) Intel Evo Core i5 11th Gen -...     4.4   59990   \n",
      "54   acer Aspire 7 Core i5 10th Gen - (8 GB/512 GB ...     4.4   47990   \n",
      "69   DELL Ryzen 5 Hexa Core AMD R5-5600H - (16 GB/5...     4.6   70990   \n",
      "83   SAMSUNG Galaxy Book Go Snapdragon 7c Gen 2 - (...     4.4   32990   \n",
      "94   DELL Inspiron Pentium Silver - (8 GB/256 GB SS...     4.2   30428   \n",
      "116  realme Book(Slim) Intel Evo Core i5 11th Gen -...     4.4   59990   \n",
      "122  DELL Ryzen 7 Octa Core AMD R7-5800H - (16 GB/5...     5.0   89081   \n",
      "142  DELL Vostro Ryzen 3 Dual Core R3-3250U - (8 GB...     3.8   33099   \n",
      "172  DELL Inspiron Core i3 11th Gen - (8 GB/1 TB HD...     4.3   45900   \n",
      "232  MSI Pulse GL66 Core i7 11th Gen - (16 GB/1 TB ...     4.5  114990   \n",
      "249  DELL Inspiron Core i3 11th Gen - (8 GB/256 GB ...     4.3   54900   \n",
      "253  DELL Inspiron Ryzen 5 Dual Core 3450U - (8 GB/...     4.3   48184   \n",
      "259  DELL Core i5 11th Gen - (8 GB/512 GB SSD/Windo...     4.4   67990   \n",
      "349  DELL Vostro Core i5 11th Gen - (8 GB/512 GB SS...     3.9   63090   \n",
      "355  DELL Vostro Core i3 10th Gen - (8 GB/512 GB SS...     4.1   43090   \n",
      "393  acer Aspire 5 Core i5 11th Gen - (8 GB/1 TB HD...     4.0   47130   \n",
      "438  acer Predator Helios 300 Core i5 7th Gen - (8 ...     4.5  129999   \n",
      "443  MSI Pulse GL66 Core i7 11th Gen - (16 GB/512 G...     4.6  107790   \n",
      "502  acer Nitro 5 Ryzen 5 Hexa Core 4600H - (8 GB/1...     4.5   61490   \n",
      "508  MSI GF63 Thin Core i5 9th Gen - (8 GB/1 TB HDD...     4.2   62190   \n",
      "593  DELL Core i7 11th Gen - (16 GB/512 GB SSD/Wind...     4.2  101990   \n",
      "622  MSI GP65 Leopard Core i7 10th Gen - (16 GB/1 T...     4.5   99990   \n",
      "628  ALIENWARE Core i9 10th Gen - (32 GB/1 TB SSD/W...     4.6  345390   \n",
      "643  ASUS ZenBook Pro 15 Core i7 8th Gen - (16 GB/1...     4.8  110990   \n",
      "644  acer Predator Helios 300 Core i5 8th Gen - (8 ...     4.6   74590   \n",
      "645  DELL Ryzen 5 Hexa Core AMD R5-5600H - (8 GB/51...     4.7   71990   \n",
      "688  ALIENWARE Core i7 10th Gen - (16 GB/1 TB SSD/W...     4.1  214790   \n",
      "689  ALIENWARE Core i7 10th Gen - (16 GB/512 GB SSD...     4.9  199990   \n",
      "\n",
      "                                               Feature      Brand  \\\n",
      "6    Processor: Intel i3-1115G4 (Base- 1.70 GHz & T...       DELL   \n",
      "8    Stylish & Portable Thin and Light Laptop14 inc...     realme   \n",
      "29   Stylish & Portable Thin and Light Laptop14 inc...     realme   \n",
      "33   Free upgrade to Windows 11 when availableAMD R...       acer   \n",
      "53   Powered by 11th Gen Intel Evo Core i5 Processo...     realme   \n",
      "54   Free upgrade to Windows 11 when availableIntel...       acer   \n",
      "69   Processor: AMD Ryzen R5-5600H (3.30 GHz up to ...       DELL   \n",
      "83   Qualcomm Snapdragon 7c Gen 2 Processor4 GB LPD...    SAMSUNG   \n",
      "94   Processor: Intel PQC-N5030 (1.10 GHz up to 3.1...       DELL   \n",
      "116  Powered by 11th Gen Intel Evo Core i5 Processo...     realme   \n",
      "122  NVIDIA RTX 3050 Graphics upto 90W TGP15.6 inch...       DELL   \n",
      "142  Processor: AMD Ryzen 3-3250U (2.60 GHz up to 3...       DELL   \n",
      "172  Processor: Intel i3-1115G4 (Base- 1.70 GHz & T...       DELL   \n",
      "232  Pre-installed Genuine Windows 10 Home OSIntel ...        MSI   \n",
      "249  Processor: Intel i3-1125G4 (2.00 GHz up to 3.7...       DELL   \n",
      "253  Processor: AMD Ryzen 5-3450U (2.10 GHz up to 3...       DELL   \n",
      "259  NVIDIA RTX 3050 Graphics upto 90W TGP15.6 inch...       DELL   \n",
      "349  Processor: 11th Generation Intel Core i5-1135G...       DELL   \n",
      "355  Processor: 10th Generation Intel Core i3-1005G...       DELL   \n",
      "393  Free upgrade to Windows 11 when availableIntel...       acer   \n",
      "438  Pre-installed Genuine Windows 10 Operating Sys...       acer   \n",
      "443  Pre-installed Genuine Windows 10 Home OSIntel ...        MSI   \n",
      "502  Free upgrade to Windows 11 when availableAMD R...       acer   \n",
      "508  15.6 inches Full HD IPS Thin Bezel Display (60...        MSI   \n",
      "593  Processor: Intel i7-11800H- (2.30 GHz up to 4....       DELL   \n",
      "622  15.6 inches Full HD IPS Thin Bezel Display (14...        MSI   \n",
      "628  NVIDIA GeForce RTX 2080 with Max-Q15.6 inch Fu...  ALIENWARE   \n",
      "643  First Ever ScreenpadNVIDIA GeForce GTX 1050 Ti...       ASUS   \n",
      "644  NVIDIA Geforce GTX 1050 Ti for Desktop Level P...       acer   \n",
      "645  NVIDIA RTX 3050 Graphics upto 90W TGP15.6 inch...       DELL   \n",
      "688  NVIDIA GeForce RTX 206015.6 inch Full HD LED B...  ALIENWARE   \n",
      "689  NVIDIA GeForce GTX 1660 Ti15.6 inch Full HD LE...  ALIENWARE   \n",
      "\n",
      "    Processor_Type                       Storage  \\\n",
      "6                             1 TB HDD256 GB SSD   \n",
      "8                                     256 GB SSD   \n",
      "29                                    256 GB SSD   \n",
      "33                                    512 GB SSD   \n",
      "53                                    512 GB SSD   \n",
      "54                                    512 GB SSD   \n",
      "69                                    512 GB SSD   \n",
      "83                                                 \n",
      "94                                    256 GB SSD   \n",
      "116                                   512 GB SSD   \n",
      "122                                   512 GB SSD   \n",
      "142                                     1 TB HDD   \n",
      "172                           1 TB HDD256 GB SSD   \n",
      "232                                     1 TB SSD   \n",
      "249                                   256 GB SSD   \n",
      "253                                   512 GB SSD   \n",
      "259                                   512 GB SSD   \n",
      "349                                   512 GB SSD   \n",
      "355                                   512 GB SSD   \n",
      "393                                     1 TB HDD   \n",
      "438                 128 GB SSD1 TB HDD128 GB SSD   \n",
      "443                                   512 GB SSD   \n",
      "502                           1 TB HDD256 GB SSD   \n",
      "508                                     1 TB HDD   \n",
      "593                                   512 GB SSD   \n",
      "622                           1 TB HDD256 GB SSD   \n",
      "628                                     1 TB SSD   \n",
      "643                                     1 TB SSD   \n",
      "644                 128 GB SSD1 TB HDD128 GB SSD   \n",
      "645                                   512 GB SSD   \n",
      "688                                     1 TB SSD   \n",
      "689                                   512 GB SSD   \n",
      "\n",
      "                                      Operating_System  \\\n",
      "6                          Windows 11 Operating System   \n",
      "8                   64 bit Windows 10 Operating System   \n",
      "29                  64 bit Windows 10 Operating System   \n",
      "33                  64 bit Windows 11 Operating System   \n",
      "53                  64 bit Windows 10 Operating System   \n",
      "54                  64 bit Windows 10 Operating System   \n",
      "69                  64 bit Windows 11 Operating System   \n",
      "83                         Windows 11 Operating System   \n",
      "94                  64 bit Windows 11 Operating System   \n",
      "116                 64 bit Windows 10 Operating System   \n",
      "122                 64 bit Windows 11 Operating System   \n",
      "142                 64 bit Windows 11 Operating System   \n",
      "172                 64 bit Windows 11 Operating System   \n",
      "232                 64 bit Windows 10 Operating System   \n",
      "249                 64 bit Windows 11 Operating System   \n",
      "253                 64 bit Windows 11 Operating System   \n",
      "259                 64 bit Windows 11 Operating System   \n",
      "349  5Operating System64 bit Windows 10 Operating S...   \n",
      "355                 64 bit Windows 10 Operating System   \n",
      "393                 64 bit Windows 10 Operating System   \n",
      "438   Windows 10 Operating System64 bit Windows 10 ...   \n",
      "443                 64 bit Windows 10 Operating System   \n",
      "502                 64 bit Windows 10 Operating System   \n",
      "508                 64 bit Windows 10 Operating System   \n",
      "593                 64 bit Windows 11 Operating System   \n",
      "622                 64 bit Windows 10 Operating System   \n",
      "628                 64 bit Windows 10 Operating System   \n",
      "643                 64 bit Windows 10 Operating System   \n",
      "644                 64 bit Windows 10 Operating System   \n",
      "645                 64 bit Windows 11 Operating System   \n",
      "688                 64 bit Windows 10 Operating System   \n",
      "689                 64 bit Windows 10 Operating System   \n",
      "\n",
      "                                                   RAM  \n",
      "6                                        8 GB DDR4 RAM  \n",
      "8                                        8 GB DDR4 RAM  \n",
      "29                                       8 GB DDR4 RAM  \n",
      "33                                       8 GB DDR4 RAM  \n",
      "53                                       8 GB DDR4 RAM  \n",
      "54                                       8 GB DDR4 RAM  \n",
      "69                                      16 GB DDR4 RAM  \n",
      "83                                    4 GB LPDDR4X RAM  \n",
      "94                                       8 GB DDR4 RAM  \n",
      "116                                      8 GB DDR4 RAM  \n",
      "122                                     16 GB DDR4 RAM  \n",
      "142                                      8 GB DDR4 RAM  \n",
      "172                                      8 GB DDR4 RAM  \n",
      "232                                     16 GB DDR4 RAM  \n",
      "249                                      8 GB DDR4 RAM  \n",
      "253                                      8 GB DDR4 RAM  \n",
      "259                                      8 GB DDR4 RAM  \n",
      "349                                      8 GB DDR4 RAM  \n",
      "355                                      8 GB DDR4 RAM  \n",
      "393                                      8 GB DDR4 RAM  \n",
      "438  128 GB SSD for Reduced Boot Up Time and in Gam...  \n",
      "443                                     16 GB DDR4 RAM  \n",
      "502                                      8 GB DDR4 RAM  \n",
      "508                                      8 GB DDR4 RAM  \n",
      "593                                     16 GB DDR4 RAM  \n",
      "622                                     16 GB DDR4 RAM  \n",
      "628                                     32 GB DDR4 RAM  \n",
      "643                                     16 GB DDR4 RAM  \n",
      "644                                      8 GB DDR4 RAM  \n",
      "645                                      8 GB DDR4 RAM  \n",
      "688                                     16 GB DDR4 RAM  \n",
      "689                                     16 GB DDR4 RAM  \n"
     ]
    }
   ],
   "source": [
    "print(dataset[dataset['Processor_Type']==''])"
   ]
  },
  {
   "cell_type": "code",
   "execution_count": 14,
   "id": "e5f3dd2f",
   "metadata": {},
   "outputs": [],
   "source": [
    "dataset.iloc[6,5] = 'Intel i3-1115G4'\n",
    "dataset.iloc[8,5] = 'Intel Core i3'\n",
    "dataset.iloc[29,5] = 'Intel Core i3'\n",
    "dataset.iloc[33,5] = 'AMD Ryzen 5 Hexa Core'\n",
    "dataset.iloc[53,5] = 'Intel Evo Core i5'\n",
    "dataset.iloc[54,5] = 'Intel Core i5'\n",
    "dataset.iloc[69,5] = 'AMD Ryzen R5-5600H'\n",
    "dataset.iloc[83,5] = 'Qualcomm Snapdragon 7c Gen 2'\n",
    "dataset.iloc[94,5] = 'Intel PQC-N5030'\n",
    "dataset.iloc[116,5] = 'Gen Intel Evo Core i5'\n",
    "dataset.iloc[122,5] =' AMD Ryzen 7 Octa Core'\n",
    "dataset.iloc[142,5] = 'AMD Ryzen 3 Dual Core'\n",
    "dataset.iloc[172,5] = 'Intel i3-1115G4'\n",
    "dataset.iloc[232,5] = 'Intel Core i7'\n",
    "dataset.iloc[249,5] = 'Intel i3-1125G4'\n",
    "dataset.iloc[253,5] = 'AMD Ryzen 5-3450U'\n",
    "dataset.iloc[259,5] = 'Intel Core i5'\n",
    "dataset.iloc[349,5] = 'Intel Core i5-1135G7'\n",
    "dataset.iloc[355,5] = 'Intel Core i3-1005G1'\n",
    "dataset.iloc[393,5] = 'Intel Core i5'\n",
    "dataset.iloc[438,5] = 'Intel Core i5'\n",
    "dataset.iloc[443,5] = 'Intel Core i7'\n",
    "dataset.iloc[502,5] = 'AMD Ryzen 5 Hexa Core'\n",
    "dataset.iloc[508,5] = 'Intel Core i5 Pro'\n",
    "dataset.iloc[593,5] = 'Intel i7-11800H'\n",
    "dataset.iloc[622,5] = 'Intel Core i7'\n",
    "dataset.iloc[628,5] = 'Intel Core i9'\n",
    "dataset.iloc[643,5] = 'Intel Core i7'\n",
    "dataset.iloc[644,5] = 'Intel Core i5'\n",
    "dataset.iloc[645,5] = 'AMD Ryzen 5 Hexa Core'\n",
    "dataset.iloc[688,5] = 'Intel Core i7'\n",
    "dataset.iloc[689,5] = 'Intel Core i7'"
   ]
  },
  {
   "cell_type": "code",
   "execution_count": 15,
   "id": "6b9729a5",
   "metadata": {},
   "outputs": [
    {
     "data": {
      "text/plain": [
       "0"
      ]
     },
     "execution_count": 15,
     "metadata": {},
     "output_type": "execute_result"
    }
   ],
   "source": [
    "len(dataset[dataset['Processor_Type']==''])"
   ]
  },
  {
   "cell_type": "code",
   "execution_count": 16,
   "id": "8a09cfdf",
   "metadata": {},
   "outputs": [
    {
     "data": {
      "text/plain": [
       "array(['64 bit Windows 11 Operating System',\n",
       "       '64 bit Windows 10 Operating System',\n",
       "       'Windows 11 Operating System', 'MMac OS Operating System',\n",
       "       'OS Operating System', 'Windows 10 Operating System',\n",
       "       'MChrome Operating System', '32 bit Windows 11 Operating System',\n",
       "       '5Operating System64 bit Windows 10 Operating System',\n",
       "       '64 bit DOS Operating System',\n",
       "       ' Windows 10 Operating System64 bit Windows 10 Operating System',\n",
       "       '64 bit Chrome Operating System'], dtype=object)"
      ]
     },
     "execution_count": 16,
     "metadata": {},
     "output_type": "execute_result"
    }
   ],
   "source": [
    "dataset['Operating_System'].unique()"
   ]
  },
  {
   "cell_type": "code",
   "execution_count": 17,
   "id": "f4b8b236",
   "metadata": {},
   "outputs": [
    {
     "data": {
      "text/plain": [
       "array(['Windows 11', 'Windows 10', 'Mac', 'Chrome'], dtype=object)"
      ]
     },
     "execution_count": 17,
     "metadata": {},
     "output_type": "execute_result"
    }
   ],
   "source": [
    "dataset['Operating_System'].replace({'64 bit Windows 11 Operating System': 'Windows 11', '64 bit Windows 10 Operating System': 'Windows 10', 'Windows 11 Operating System': 'Windows 11',\n",
    "                                'MMac OS Operating System': 'Mac', 'Windows 10 Operating System': 'Windows 10', 'MChrome Operating System': 'Chrome', '32 bit Windows 11 Operating System': 'Windows 11', \n",
    "                               ' OS Operating System': 'Mac', '5Operating System64 bit Windows 10 Operating System': 'Windows 10', '64 bit DOS Operating System': 'Mac', 'Windows 10 Operating System64 bit Windows 10 Operating System': 'Windows 10', \n",
    "                               '64 bit Chrome Operating System':'Chrome', 'OS Operating System': 'Mac', ' Windows 10 Operating System64 bit Windows 10 Operating System': 'Windows 10' },inplace=True)\n",
    "\n",
    "dataset['Operating_System'] = dataset['Operating_System'].apply(lambda x : x.replace('64 bit', '').replace('64 bit','').replace('64 bit','').replace('System64 ','').replace('64 bit ','').replace('32 bit',''))\n",
    "dataset['Operating_System'].unique()"
   ]
  },
  {
   "cell_type": "code",
   "execution_count": 18,
   "id": "ed3c962e",
   "metadata": {},
   "outputs": [
    {
     "data": {
      "text/plain": [
       "Windows 11    561\n",
       "Windows 10    129\n",
       "Mac            23\n",
       "Chrome          7\n",
       "Name: Operating_System, dtype: int64"
      ]
     },
     "execution_count": 18,
     "metadata": {},
     "output_type": "execute_result"
    }
   ],
   "source": [
    "dataset['Operating_System'].value_counts()"
   ]
  },
  {
   "cell_type": "code",
   "execution_count": 19,
   "id": "b8aa570f",
   "metadata": {},
   "outputs": [
    {
     "data": {
      "text/plain": [
       "array(['8 GB DDR4 RAM', '16 GB DDR4 RAM', '16 GB DDR5 RAM',\n",
       "       '4 GB LPDDR4 RAM', '4 GB DDR4 RAM', '8 GB Unified Memory RAM',\n",
       "       '8 GB LPDDR4X RAM', '16 GB Unified Memory RAM', '4 GB LPDDR4X RAM',\n",
       "       '16 GB LPDDR4X RAM', '16 GB LPDDR5 RAM',\n",
       "       '32 GB Unified Memory RAM', '16 GB LPDDR4 RAM', '32 GB DDR5 RAM',\n",
       "       '128 GB SSD for Reduced Boot Up Time and in Game LoadingUpgradable SSD Upto 512 GB and RAM8 GB DDR4 RAM',\n",
       "       '8 GB DDR5 RAM', '32 GB DDR4 RAM', '32 GB LPDDR4X RAM',\n",
       "       '16 GB LPDDR3 RAM'], dtype=object)"
      ]
     },
     "execution_count": 19,
     "metadata": {},
     "output_type": "execute_result"
    }
   ],
   "source": [
    "dataset['RAM'].unique()"
   ]
  },
  {
   "cell_type": "code",
   "execution_count": 20,
   "id": "db51a1ff",
   "metadata": {},
   "outputs": [
    {
     "data": {
      "text/plain": [
       "array(['8 GB DDR4 RAM', '16 GB DDR4 RAM', '16 GB DDR5 RAM',\n",
       "       '4 GB LPDDR4 RAM', '4 GB DDR4 RAM', '8 GB Unified RAM',\n",
       "       '8 GB LPDDR4X RAM', '16 GB Unified RAM', '4 GB LPDDR4X RAM',\n",
       "       '16 GB LPDDR4X RAM', '16 GB LPDDR5 RAM', '32 GB Unified RAM',\n",
       "       '16 GB LPDDR4 RAM', '32 GB DDR5 RAM', '8 GB DDR5 RAM',\n",
       "       '32 GB DDR4 RAM', '32 GB LPDDR4X RAM', '16 GB LPDDR3 RAM'],\n",
       "      dtype=object)"
      ]
     },
     "execution_count": 20,
     "metadata": {},
     "output_type": "execute_result"
    }
   ],
   "source": [
    "dataset['RAM'] = dataset['RAM'].apply(lambda x : x.replace('128 GB SSD for Reduced Boot Up Time and in Game LoadingUpgradable SSD Upto 512 GB and RAM8 GB DDR4 RAM', '8 GB DDR4 RAM'))\n",
    "dataset['RAM'] = dataset['RAM'].apply(lambda x : x.replace('Unified Memory', 'Unified'))\n",
    "dataset['RAM'].unique()"
   ]
  },
  {
   "cell_type": "code",
   "execution_count": 21,
   "id": "c17dbeb9",
   "metadata": {},
   "outputs": [],
   "source": [
    "dataset[['RAM_Size','GB', 'RAM_Type', 'RAM1']] = dataset['RAM'].str.split(' ', expand=True)\n",
    "\n",
    "dataset.drop(['GB', 'RAM1', 'RAM'], axis=1, inplace=True)\n",
    "dataset['RAM_Size'] = dataset['RAM_Size']+'GB'"
   ]
  },
  {
   "cell_type": "code",
   "execution_count": 22,
   "id": "339f1af4",
   "metadata": {},
   "outputs": [
    {
     "data": {
      "text/plain": [
       "DDR4       561\n",
       "DDR5        92\n",
       "LPDDR4X     37\n",
       "Unified     12\n",
       "LPDDR5       9\n",
       "LPDDR4       8\n",
       "LPDDR3       1\n",
       "Name: RAM_Type, dtype: int64"
      ]
     },
     "execution_count": 22,
     "metadata": {},
     "output_type": "execute_result"
    }
   ],
   "source": [
    "dataset['RAM_Type'].value_counts()"
   ]
  },
  {
   "cell_type": "code",
   "execution_count": 23,
   "id": "ba5e74ee",
   "metadata": {},
   "outputs": [
    {
     "data": {
      "text/plain": [
       "512 GB SSD                      375\n",
       "1 TB SSD                        176\n",
       "256 GB SSD                       98\n",
       "1 TB HDD256 GB SSD               26\n",
       "1 TB HDD                         17\n",
       "                                 10\n",
       "2 TB SSD                          7\n",
       "128 GB SSD                        6\n",
       "1 TB HDD512 GB SSD                2\n",
       "128 GB SSD1 TB HDD128 GB SSD      2\n",
       "256 GB HDD256 GB SSD              1\n",
       "Name: Storage, dtype: int64"
      ]
     },
     "execution_count": 23,
     "metadata": {},
     "output_type": "execute_result"
    }
   ],
   "source": [
    "dataset['Storage'].value_counts()"
   ]
  },
  {
   "cell_type": "code",
   "execution_count": 24,
   "id": "28c80335",
   "metadata": {},
   "outputs": [
    {
     "name": "stdout",
     "output_type": "stream",
     "text": [
      "                                               Product  Rating    MRP  \\\n",
      "83   SAMSUNG Galaxy Book Go Snapdragon 7c Gen 2 - (...     4.4  32990   \n",
      "89   Lenovo IdeaPad 3 CB Celeron Dual Core - (4 GB/...     NaN  19490   \n",
      "96   Lenovo IdeaPad 3 CB Celeron Dual Core - (4 GB/...     NaN  19490   \n",
      "345  ASUS Chromebook Flip Touch Celeron Dual Core -...     4.0  14990   \n",
      "509  ASUS Chromebook Flip Touch Celeron Dual Core -...     4.0  24390   \n",
      "544  ASUS EeeBook 12 Celeron Dual Core - (4 GB/64 G...     4.5  21990   \n",
      "559  ASUS EeeBook 12 Celeron Dual Core - (4 GB/64 G...     4.0  19990   \n",
      "632  Lenovo IdeaPad Flex 3 Chromebook Celeron Dual ...     3.6  28490   \n",
      "695  ASUS Chromebook Celeron Dual Core - (4 GB/64 G...     4.1  25990   \n",
      "715  ASUS Chromebook Flip Touch Celeron Dual Core -...     4.0  23490   \n",
      "\n",
      "                                               Feature    Brand  \\\n",
      "83   Qualcomm Snapdragon 7c Gen 2 Processor4 GB LPD...  SAMSUNG   \n",
      "89   Intel Celeron Dual Core Processor4 GB DDR4 RAM...   Lenovo   \n",
      "96   Intel Celeron Dual Core Processor4 GB DDR4 RAM...   Lenovo   \n",
      "345  Intel Celeron Dual Core Processor4 GB LPDDR4 R...     ASUS   \n",
      "509  Intel Celeron Dual Core Processor4 GB LPDDR4 R...     ASUS   \n",
      "544  Intel Celeron Dual Core Processor4 GB DDR4 RAM...     ASUS   \n",
      "559  Intel Celeron Dual Core Processor4 GB DDR4 RAM...     ASUS   \n",
      "632  Intel Celeron Dual Core Processor4 GB LPDDR4X ...   Lenovo   \n",
      "695  Intel Celeron Dual Core Processor4 GB LPDDR4 R...     ASUS   \n",
      "715  Intel Celeron Dual Core Processor4 GB LPDDR4 R...     ASUS   \n",
      "\n",
      "                   Processor_Type Storage Operating_System RAM_Size RAM_Type  \n",
      "83   Qualcomm Snapdragon 7c Gen 2               Windows 11      4GB  LPDDR4X  \n",
      "89        Intel Celeron Dual Core                   Chrome      4GB     DDR4  \n",
      "96        Intel Celeron Dual Core                   Chrome      4GB     DDR4  \n",
      "345       Intel Celeron Dual Core                   Chrome      4GB   LPDDR4  \n",
      "509       Intel Celeron Dual Core                   Chrome      4GB   LPDDR4  \n",
      "544       Intel Celeron Dual Core               Windows 11      4GB     DDR4  \n",
      "559       Intel Celeron Dual Core               Windows 11      4GB     DDR4  \n",
      "632       Intel Celeron Dual Core                   Chrome      4GB  LPDDR4X  \n",
      "695       Intel Celeron Dual Core                   Chrome      4GB   LPDDR4  \n",
      "715       Intel Celeron Dual Core                   Chrome      4GB   LPDDR4  \n"
     ]
    }
   ],
   "source": [
    "print(dataset[dataset['Storage']==''])"
   ]
  },
  {
   "cell_type": "code",
   "execution_count": 25,
   "id": "aa2a29c9",
   "metadata": {},
   "outputs": [],
   "source": [
    "dataset.iloc[83,6] = '128GB EMMC'\n",
    "dataset.iloc[89,6] = '64GB EMMC'\n",
    "dataset.iloc[96,6] = '64GB EMMC'\n",
    "dataset.iloc[345,6] = '32GB EMMC'\n",
    "dataset.iloc[509,6] = '64GB EMMC'\n",
    "dataset.iloc[544,6] = '64GB EMMC'\n",
    "dataset.iloc[559,6] = '64GB EMMC'\n",
    "dataset.iloc[632,6] = '128GB EMMC'\n",
    "dataset.iloc[695,6] = '64GB EMMC'\n",
    "dataset.iloc[715,6] = '64GB EMMC'"
   ]
  },
  {
   "cell_type": "code",
   "execution_count": 26,
   "id": "753ae8b2",
   "metadata": {},
   "outputs": [
    {
     "name": "stdout",
     "output_type": "stream",
     "text": [
      "0\n"
     ]
    }
   ],
   "source": [
    "print(len(dataset[dataset['Storage']=='']))"
   ]
  },
  {
   "cell_type": "code",
   "execution_count": 27,
   "id": "fdb64804",
   "metadata": {},
   "outputs": [],
   "source": [
    "dataset['Storage'].replace({'256 GB SSD':'256GB SSD'}, inplace=True)\n",
    "dataset['Storage'].replace({'512 GB SSD':'512GB SSD'}, inplace=True)\n",
    "dataset['Storage'].replace({'1 TB SSD':'1TB SSD'}, inplace=True)\n",
    "dataset['Storage'].replace({'1 TB HDD':'1TB HDD'}, inplace=True)\n",
    "dataset['Storage'].replace({'128 GB SSD':'128GB SSD'}, inplace=True)\n",
    "dataset['Storage'].replace({'2 TB SSD':'2TB SSD'}, inplace=True)\n",
    "dataset['Storage'].replace({'1 TB HDD256 GB SSD':'1TB HDD'}, inplace=True)\n",
    "dataset['Storage'].replace({'256 GB HDD256 GB SSD':'256GB HDD'}, inplace=True)\n",
    "dataset['Storage'].replace({'1 TB HDD512 GB SSD':'1TB HDD'}, inplace=True)\n",
    "dataset['Storage'].replace({'128 GB SSD1 TB HDD128 GB SSD':'1TB HDD'}, inplace=True)"
   ]
  },
  {
   "cell_type": "code",
   "execution_count": 28,
   "id": "c62ae09c",
   "metadata": {},
   "outputs": [],
   "source": [
    "dataset[['Disc_Size', 'Disc_Type']] = dataset['Storage'].str.split(' ', expand=True)\n",
    "\n",
    "dataset.drop(['Storage'], axis=1, inplace=True)"
   ]
  },
  {
   "cell_type": "code",
   "execution_count": 29,
   "id": "43ebfd1a",
   "metadata": {},
   "outputs": [
    {
     "data": {
      "text/plain": [
       "512GB    375\n",
       "1TB      223\n",
       "256GB     99\n",
       "128GB      8\n",
       "64GB       7\n",
       "2TB        7\n",
       "32GB       1\n",
       "Name: Disc_Size, dtype: int64"
      ]
     },
     "execution_count": 29,
     "metadata": {},
     "output_type": "execute_result"
    }
   ],
   "source": [
    "dataset['Disc_Size'].value_counts()"
   ]
  },
  {
   "cell_type": "code",
   "execution_count": 30,
   "id": "6ad5fc21",
   "metadata": {},
   "outputs": [
    {
     "data": {
      "text/plain": [
       "SSD     662\n",
       "HDD      48\n",
       "EMMC     10\n",
       "Name: Disc_Type, dtype: int64"
      ]
     },
     "execution_count": 30,
     "metadata": {},
     "output_type": "execute_result"
    }
   ],
   "source": [
    "dataset['Disc_Type'].value_counts()"
   ]
  },
  {
   "cell_type": "code",
   "execution_count": 31,
   "id": "5bf39a71",
   "metadata": {},
   "outputs": [
    {
     "data": {
      "text/plain": [
       "Product               0\n",
       "Rating              139\n",
       "MRP                   0\n",
       "Feature               0\n",
       "Brand                 0\n",
       "Processor_Type        0\n",
       "Operating_System      0\n",
       "RAM_Size              0\n",
       "RAM_Type              0\n",
       "Disc_Size             0\n",
       "Disc_Type             0\n",
       "dtype: int64"
      ]
     },
     "execution_count": 31,
     "metadata": {},
     "output_type": "execute_result"
    }
   ],
   "source": [
    "dataset.isnull().sum()"
   ]
  },
  {
   "cell_type": "code",
   "execution_count": 32,
   "id": "8dc0f4e2",
   "metadata": {},
   "outputs": [],
   "source": [
    "dataset['Rating'].fillna(dataset['Rating'].median(), inplace=True)"
   ]
  },
  {
   "cell_type": "code",
   "execution_count": 33,
   "id": "5b756cb8",
   "metadata": {},
   "outputs": [
    {
     "data": {
      "text/plain": [
       "296"
      ]
     },
     "execution_count": 33,
     "metadata": {},
     "output_type": "execute_result"
    }
   ],
   "source": [
    "dataset.duplicated().sum()"
   ]
  },
  {
   "cell_type": "code",
   "execution_count": 34,
   "id": "c7b308b8",
   "metadata": {},
   "outputs": [],
   "source": [
    "dataset = dataset.drop_duplicates()"
   ]
  },
  {
   "cell_type": "markdown",
   "id": "0d834204",
   "metadata": {},
   "source": [
    "**`Univariate & Bivariate Analysis`**"
   ]
  },
  {
   "cell_type": "code",
   "execution_count": 44,
   "id": "5ca7a250",
   "metadata": {},
   "outputs": [
    {
     "data": {
      "image/png": "[encoded data removed]",
      "text/plain": [
       "<Figure size 432x288 with 1 Axes>"
      ]
     },
     "metadata": {
      "needs_background": "light"
     },
     "output_type": "display_data"
    }
   ],
   "source": [
    "dataset['MRP'].plot(kind='kde')\n",
    "plt.show()"
   ]
  },
  {
   "cell_type": "code",
   "execution_count": 45,
   "id": "a791fb01",
   "metadata": {},
   "outputs": [
    {
     "data": {
      "image/png": "[encoded data removed]",
      "text/plain": [
       "<Figure size 432x288 with 1 Axes>"
      ]
     },
     "metadata": {
      "needs_background": "light"
     },
     "output_type": "display_data"
    }
   ],
   "source": [
    "dataset['MRP'].plot(kind='box')\n",
    "plt.show()"
   ]
  },
  {
   "cell_type": "code",
   "execution_count": 46,
   "id": "cd8dd048",
   "metadata": {},
   "outputs": [
    {
     "data": {
      "text/plain": [
       "<Figure size 1080x360 with 0 Axes>"
      ]
     },
     "metadata": {},
     "output_type": "display_data"
    },
    {
     "data": {
      "image/png": "[encoded data removed]",
      "text/plain": [
       "<Figure size 360x360 with 1 Axes>"
      ]
     },
     "metadata": {
      "needs_background": "light"
     },
     "output_type": "display_data"
    }
   ],
   "source": [
    "plt.figure(figsize=(15,5))\n",
    "sns.displot(dataset['MRP'],palette='Set2')\n",
    "plt.show()"
   ]
  },
  {
   "cell_type": "code",
   "execution_count": 47,
   "id": "6540eec8",
   "metadata": {},
   "outputs": [
    {
     "data": {
      "image/png": "[encoded data removed]",
      "text/plain": [
       "<Figure size 1080x360 with 1 Axes>"
      ]
     },
     "metadata": {
      "needs_background": "light"
     },
     "output_type": "display_data"
    }
   ],
   "source": [
    "plt.figure(figsize=(15,5))\n",
    "sns.boxplot(dataset['Brand'],dataset['MRP'],palette='Set2')\n",
    "plt.show()"
   ]
  },
  {
   "cell_type": "code",
   "execution_count": 48,
   "id": "e98f7e82",
   "metadata": {},
   "outputs": [
    {
     "data": {
      "image/png": "[encoded data removed]",
      "text/plain": [
       "<Figure size 1080x360 with 1 Axes>"
      ]
     },
     "metadata": {
      "needs_background": "light"
     },
     "output_type": "display_data"
    }
   ],
   "source": [
    "plt.figure(figsize=(15,5))\n",
    "sns.countplot(dataset['Brand'],palette='Set2')\n",
    "plt.show()"
   ]
  },
  {
   "cell_type": "code",
   "execution_count": 49,
   "id": "ca4b4b64",
   "metadata": {},
   "outputs": [
    {
     "data": {
      "text/html": [
       "<div>\n",
       "<style scoped>\n",
       "    .dataframe tbody tr th:only-of-type {\n",
       "        vertical-align: middle;\n",
       "    }\n",
       "\n",
       "    .dataframe tbody tr th {\n",
       "        vertical-align: top;\n",
       "    }\n",
       "\n",
       "    .dataframe thead tr th {\n",
       "        text-align: left;\n",
       "    }\n",
       "\n",
       "    .dataframe thead tr:last-of-type th {\n",
       "        text-align: right;\n",
       "    }\n",
       "</style>\n",
       "<table border=\"1\" class=\"dataframe\">\n",
       "  <thead>\n",
       "    <tr>\n",
       "      <th></th>\n",
       "      <th colspan=\"3\" halign=\"left\">MRP</th>\n",
       "    </tr>\n",
       "    <tr>\n",
       "      <th></th>\n",
       "      <th>min</th>\n",
       "      <th>max</th>\n",
       "      <th>mean</th>\n",
       "    </tr>\n",
       "    <tr>\n",
       "      <th>Brand</th>\n",
       "      <th></th>\n",
       "      <th></th>\n",
       "      <th></th>\n",
       "    </tr>\n",
       "  </thead>\n",
       "  <tbody>\n",
       "    <tr>\n",
       "      <th>ALIENWARE</th>\n",
       "      <td>199990</td>\n",
       "      <td>345390</td>\n",
       "      <td>253390.000000</td>\n",
       "    </tr>\n",
       "    <tr>\n",
       "      <th>APPLE</th>\n",
       "      <td>88990</td>\n",
       "      <td>309490</td>\n",
       "      <td>162332.105263</td>\n",
       "    </tr>\n",
       "    <tr>\n",
       "      <th>ASUS</th>\n",
       "      <td>14990</td>\n",
       "      <td>361990</td>\n",
       "      <td>91455.632353</td>\n",
       "    </tr>\n",
       "    <tr>\n",
       "      <th>DELL</th>\n",
       "      <td>30428</td>\n",
       "      <td>434830</td>\n",
       "      <td>74613.232143</td>\n",
       "    </tr>\n",
       "    <tr>\n",
       "      <th>GIGABYTE</th>\n",
       "      <td>73990</td>\n",
       "      <td>73990</td>\n",
       "      <td>73990.000000</td>\n",
       "    </tr>\n",
       "    <tr>\n",
       "      <th>HP</th>\n",
       "      <td>25990</td>\n",
       "      <td>199990</td>\n",
       "      <td>65943.157895</td>\n",
       "    </tr>\n",
       "    <tr>\n",
       "      <th>Infinix</th>\n",
       "      <td>20990</td>\n",
       "      <td>52990</td>\n",
       "      <td>37347.142857</td>\n",
       "    </tr>\n",
       "    <tr>\n",
       "      <th>Lenovo</th>\n",
       "      <td>19490</td>\n",
       "      <td>157990</td>\n",
       "      <td>54473.032258</td>\n",
       "    </tr>\n",
       "    <tr>\n",
       "      <th>MSI</th>\n",
       "      <td>43990</td>\n",
       "      <td>389990</td>\n",
       "      <td>123411.344828</td>\n",
       "    </tr>\n",
       "    <tr>\n",
       "      <th>Nokia</th>\n",
       "      <td>50490</td>\n",
       "      <td>50490</td>\n",
       "      <td>50490.000000</td>\n",
       "    </tr>\n",
       "    <tr>\n",
       "      <th>RedmiBook</th>\n",
       "      <td>31990</td>\n",
       "      <td>39990</td>\n",
       "      <td>35990.000000</td>\n",
       "    </tr>\n",
       "    <tr>\n",
       "      <th>SAMSUNG</th>\n",
       "      <td>32990</td>\n",
       "      <td>59990</td>\n",
       "      <td>46490.000000</td>\n",
       "    </tr>\n",
       "    <tr>\n",
       "      <th>Ultimus</th>\n",
       "      <td>15990</td>\n",
       "      <td>19990</td>\n",
       "      <td>17990.000000</td>\n",
       "    </tr>\n",
       "    <tr>\n",
       "      <th>Vaio</th>\n",
       "      <td>40990</td>\n",
       "      <td>40990</td>\n",
       "      <td>40990.000000</td>\n",
       "    </tr>\n",
       "    <tr>\n",
       "      <th>acer</th>\n",
       "      <td>24990</td>\n",
       "      <td>155490</td>\n",
       "      <td>65000.764706</td>\n",
       "    </tr>\n",
       "    <tr>\n",
       "      <th>realme</th>\n",
       "      <td>46990</td>\n",
       "      <td>64999</td>\n",
       "      <td>55791.800000</td>\n",
       "    </tr>\n",
       "  </tbody>\n",
       "</table>\n",
       "</div>"
      ],
      "text/plain": [
       "              MRP                       \n",
       "              min     max           mean\n",
       "Brand                                   \n",
       "ALIENWARE  199990  345390  253390.000000\n",
       "APPLE       88990  309490  162332.105263\n",
       "ASUS        14990  361990   91455.632353\n",
       "DELL        30428  434830   74613.232143\n",
       "GIGABYTE    73990   73990   73990.000000\n",
       "HP          25990  199990   65943.157895\n",
       "Infinix     20990   52990   37347.142857\n",
       "Lenovo      19490  157990   54473.032258\n",
       "MSI         43990  389990  123411.344828\n",
       "Nokia       50490   50490   50490.000000\n",
       "RedmiBook   31990   39990   35990.000000\n",
       "SAMSUNG     32990   59990   46490.000000\n",
       "Ultimus     15990   19990   17990.000000\n",
       "Vaio        40990   40990   40990.000000\n",
       "acer        24990  155490   65000.764706\n",
       "realme      46990   64999   55791.800000"
      ]
     },
     "execution_count": 49,
     "metadata": {},
     "output_type": "execute_result"
    }
   ],
   "source": [
    "dataset.groupby(['Brand']).agg({'MRP' : ['min', 'max', 'mean']})"
   ]
  },
  {
   "cell_type": "code",
   "execution_count": 50,
   "id": "b7a81109",
   "metadata": {},
   "outputs": [
    {
     "data": {
      "image/png": "[encoded data removed]",
      "text/plain": [
       "<Figure size 1080x360 with 1 Axes>"
      ]
     },
     "metadata": {
      "needs_background": "light"
     },
     "output_type": "display_data"
    }
   ],
   "source": [
    "plt.figure(figsize=(15,5))\n",
    "dataset.groupby(['Brand'])['MRP'].max().plot(kind='bar')\n",
    "plt.show()"
   ]
  },
  {
   "cell_type": "code",
   "execution_count": 51,
   "id": "c7dd420d",
   "metadata": {},
   "outputs": [
    {
     "data": {
      "image/png": "[encoded data removed]",
      "text/plain": [
       "<Figure size 1080x360 with 1 Axes>"
      ]
     },
     "metadata": {
      "needs_background": "light"
     },
     "output_type": "display_data"
    }
   ],
   "source": [
    "plt.figure(figsize=(15,5))\n",
    "dataset['Processor_Type'].value_counts().plot(kind='bar')\n",
    "plt.show()"
   ]
  },
  {
   "cell_type": "code",
   "execution_count": 52,
   "id": "ebef2f00",
   "metadata": {},
   "outputs": [
    {
     "data": {
      "image/png": "[encoded data removed]",
      "text/plain": [
       "<Figure size 1080x360 with 1 Axes>"
      ]
     },
     "metadata": {
      "needs_background": "light"
     },
     "output_type": "display_data"
    }
   ],
   "source": [
    "plt.figure(figsize=(15,5))\n",
    "sns.barplot(dataset['Processor_Type'],dataset['MRP'],palette='Set2')\n",
    "plt.xticks(rotation='vertical')\n",
    "plt.show()"
   ]
  },
  {
   "cell_type": "code",
   "execution_count": 53,
   "id": "72226d78",
   "metadata": {},
   "outputs": [
    {
     "data": {
      "image/png": "[encoded data removed]",
      "text/plain": [
       "<Figure size 1080x360 with 1 Axes>"
      ]
     },
     "metadata": {
      "needs_background": "light"
     },
     "output_type": "display_data"
    }
   ],
   "source": [
    "plt.figure(figsize=(15,5))\n",
    "dataset['RAM_Type'].value_counts().plot(kind='bar')\n",
    "plt.show()"
   ]
  },
  {
   "cell_type": "code",
   "execution_count": 54,
   "id": "89f9cf92",
   "metadata": {},
   "outputs": [
    {
     "data": {
      "image/png": "[encoded data removed]",
      "text/plain": [
       "<Figure size 1080x360 with 1 Axes>"
      ]
     },
     "metadata": {
      "needs_background": "light"
     },
     "output_type": "display_data"
    }
   ],
   "source": [
    "plt.figure(figsize=(15,5))\n",
    "sns.barplot(dataset['RAM_Type'],dataset['MRP'],palette='Set2')\n",
    "plt.xticks(rotation='vertical')\n",
    "plt.show()"
   ]
  },
  {
   "cell_type": "code",
   "execution_count": 55,
   "id": "58fa2d2d",
   "metadata": {},
   "outputs": [
    {
     "data": {
      "image/png": "[encoded data removed]",
      "text/plain": [
       "<Figure size 1080x360 with 1 Axes>"
      ]
     },
     "metadata": {
      "needs_background": "light"
     },
     "output_type": "display_data"
    }
   ],
   "source": [
    "plt.figure(figsize=(15,5))\n",
    "sns.barplot(dataset['RAM_Size'],dataset['MRP'],palette='Set2')\n",
    "plt.xticks(rotation='vertical')\n",
    "plt.show()"
   ]
  },
  {
   "cell_type": "code",
   "execution_count": 56,
   "id": "2a3bca43",
   "metadata": {},
   "outputs": [
    {
     "data": {
      "image/png": "[encoded data removed]",
      "text/plain": [
       "<Figure size 1080x360 with 1 Axes>"
      ]
     },
     "metadata": {
      "needs_background": "light"
     },
     "output_type": "display_data"
    }
   ],
   "source": [
    "plt.figure(figsize=(15,5))\n",
    "sns.barplot(dataset['Disc_Size'],dataset['MRP'],palette='Set2')\n",
    "plt.xticks(rotation='vertical')\n",
    "plt.show()"
   ]
  },
  {
   "cell_type": "code",
   "execution_count": 57,
   "id": "25f5b380",
   "metadata": {},
   "outputs": [
    {
     "data": {
      "image/png": "[encoded data removed]",
      "text/plain": [
       "<Figure size 1080x360 with 1 Axes>"
      ]
     },
     "metadata": {
      "needs_background": "light"
     },
     "output_type": "display_data"
    }
   ],
   "source": [
    "plt.figure(figsize=(15,5))\n",
    "dataset['Operating_System'].value_counts().plot(kind='bar')\n",
    "plt.show()"
   ]
  },
  {
   "cell_type": "code",
   "execution_count": 58,
   "id": "e6c09369",
   "metadata": {},
   "outputs": [
    {
     "data": {
      "image/png": "[encoded data removed]",
      "text/plain": [
       "<Figure size 1800x1800 with 1 Axes>"
      ]
     },
     "metadata": {
      "needs_background": "light"
     },
     "output_type": "display_data"
    }
   ],
   "source": [
    "plt.figure(figsize=(25,25))\n",
    "sns.barplot(dataset['MRP'],dataset['Processor_Type'],palette='Set2',orient='h')\n",
    "plt.show()"
   ]
  },
  {
   "cell_type": "code",
   "execution_count": 59,
   "id": "2a002691",
   "metadata": {},
   "outputs": [
    {
     "data": {
      "image/png": "[encoded data removed]",
      "text/plain": [
       "<Figure size 1800x1800 with 1 Axes>"
      ]
     },
     "metadata": {
      "needs_background": "light"
     },
     "output_type": "display_data"
    }
   ],
   "source": [
    "plt.figure(figsize=(25,25))\n",
    "sns.barplot(dataset['MRP'],dataset['Brand'],palette='Set2',orient='h')\n",
    "plt.show()"
   ]
  },
  {
   "cell_type": "markdown",
   "id": "e173839c",
   "metadata": {},
   "source": [
    "### Analysis\n",
    "\n",
    "- Highest Brand Price ALIENWARE\n",
    "- MRP Log Normal Distribution\n",
    "- Top 5 Brands ASUS Lenovo HP DELL acer\n",
    "- Highest CPU Price Intel Core i9 AMD Ryzen 9 Intel Core i7 AMD Ryzen 7\n",
    "- Highest RAM Price 32 128 16\n",
    "- Highest Storage Price 1TB 512SSD 128SSD\n",
    "- Highest Price Operating System MAC Windows DOS\n",
    "- High Quantity CPU Intel Core i5\n",
    "- High Quantity Generation Laptop 11th 10th\n",
    "- High Quantity Laptop Types TUF Gaming IdeaPad 3\n",
    "- High Laptop Types Price 2021 Macbook Core i9 ROG Flow\n",
    "- High Rating Laptop APPLE SAMSUNG\n",
    "- High Rating Processor Intel Pentium Quad Core AMD Ryzen 9 Octa Core Intel Core i9 AMD Ryzen 7 Octa Core\n",
    "- High Rating Operating System 64bit DOS 64bit Windows10 64bit Windows11\n",
    "- High RAM Rating 32GB LPD DDR4X 32GB DDR5 16GB Unified Memory 8GB Unified Memory \n",
    "- High Storage Rating 1TB SSD 128SSD and 1TB HHD 1TB HHD and 512GB SSD\n",
    "- High Storage Rating 2TB SSD 128SSD and 1TB HHD 1TB HHD and 512GB SSD\n",
    "-  Price for laptop brand ALIENWARE is ranges approximetely from 2 Lakh to 3.5 Lakh, these are costiest laptops\n",
    "- Average price for ALIENWARE APPLE ASUS MSI laptops brand is high\n",
    "- Average price is high for Mac Operating System laptops\n",
    "- Apple M1 Max processor laptops has high average laptop price as compared to any other processor\n",
    "- LPDDR3 RAM type laptops has highest average price\n",
    "- SSD Disc type laptops has highest aaverage price\n",
    "- Higher the RAM size higher the Price of laptop\n",
    "- Higher the Disc size highrt the Price of laptop\n",
    "- 64GB RAM size laptops have high average price\n",
    "- 2TB Disc size laptops have high average price"
   ]
  },
  {
   "cell_type": "markdown",
   "id": "d8401cc5",
   "metadata": {},
   "source": [
    "**`Sprint - 2 (ML Model Tuning)`**"
   ]
  },
  {
   "cell_type": "code",
   "execution_count": 35,
   "id": "2409ca11",
   "metadata": {},
   "outputs": [],
   "source": [
    "dataset.drop(columns=['Product','Rating','Feature'],inplace=True)"
   ]
  },
  {
   "cell_type": "code",
   "execution_count": 36,
   "id": "679d9157",
   "metadata": {},
   "outputs": [
    {
     "name": "stdout",
     "output_type": "stream",
     "text": [
      "<class 'pandas.core.frame.DataFrame'>\n",
      "Int64Index: 424 entries, 0 to 719\n",
      "Data columns (total 8 columns):\n",
      " #   Column            Non-Null Count  Dtype \n",
      "---  ------            --------------  ----- \n",
      " 0   MRP               424 non-null    int32 \n",
      " 1   Brand             424 non-null    object\n",
      " 2   Processor_Type    424 non-null    object\n",
      " 3   Operating_System  424 non-null    object\n",
      " 4   RAM_Size          424 non-null    object\n",
      " 5   RAM_Type          424 non-null    object\n",
      " 6   Disc_Size         424 non-null    object\n",
      " 7   Disc_Type         424 non-null    object\n",
      "dtypes: int32(1), object(7)\n",
      "memory usage: 28.2+ KB\n"
     ]
    }
   ],
   "source": [
    "dataset.info()"
   ]
  },
  {
   "cell_type": "code",
   "execution_count": 37,
   "id": "8c95162a",
   "metadata": {},
   "outputs": [
    {
     "data": {
      "text/plain": [
       "MRP                 0\n",
       "Brand               0\n",
       "Processor_Type      0\n",
       "Operating_System    0\n",
       "RAM_Size            0\n",
       "RAM_Type            0\n",
       "Disc_Size           0\n",
       "Disc_Type           0\n",
       "dtype: int64"
      ]
     },
     "execution_count": 37,
     "metadata": {},
     "output_type": "execute_result"
    }
   ],
   "source": [
    "dataset.isnull().sum()"
   ]
  },
  {
   "cell_type": "code",
   "execution_count": 38,
   "id": "e2a5812a",
   "metadata": {},
   "outputs": [
    {
     "data": {
      "text/plain": [
       "19"
      ]
     },
     "execution_count": 38,
     "metadata": {},
     "output_type": "execute_result"
    }
   ],
   "source": [
    "dataset.duplicated().sum()"
   ]
  },
  {
   "cell_type": "code",
   "execution_count": 39,
   "id": "c49a77bb",
   "metadata": {},
   "outputs": [],
   "source": [
    "# dataset = dataset.drop_duplicates()"
   ]
  },
  {
   "cell_type": "code",
   "execution_count": 40,
   "id": "1ba9302f",
   "metadata": {},
   "outputs": [],
   "source": [
    "# dataset['Brand'].unique()"
   ]
  },
  {
   "cell_type": "code",
   "execution_count": 41,
   "id": "b6a5f509",
   "metadata": {},
   "outputs": [
    {
     "data": {
      "text/plain": [
       "array([ 1,  2,  3,  4,  5,  6,  7,  8,  9, 10, 11, 12, 13, 14, 15, 16],\n",
       "      dtype=int64)"
      ]
     },
     "execution_count": 41,
     "metadata": {},
     "output_type": "execute_result"
    }
   ],
   "source": [
    "# Brand Type\n",
    "\n",
    "def replace_brand(brand):\n",
    "\n",
    "    if brand == 'Lenovo':\n",
    "        return 1\n",
    "    elif brand == 'ASUS':\n",
    "        return 2\n",
    "    elif brand == 'HP':\n",
    "        return 3\n",
    "    elif brand == 'DELL':\n",
    "        return 4\n",
    "    elif brand == 'RedmiBook':\n",
    "        return 5\n",
    "    elif brand == 'realme':\n",
    "        return 6\n",
    "    elif brand == 'acer':\n",
    "        return 7\n",
    "    elif brand == 'MSI':\n",
    "        return 8\n",
    "    elif brand == 'APPLE':\n",
    "        return 9\n",
    "    elif brand == 'Infinix':\n",
    "        return 10\n",
    "    elif brand == 'SAMSUNG':\n",
    "        return 11\n",
    "    elif brand == 'Ultimus':\n",
    "        return 12\n",
    "    elif brand == 'Vaio':\n",
    "        return 13\n",
    "    elif brand == 'GIGABYTE':\n",
    "        return 14\n",
    "    elif brand == 'Nokia':\n",
    "        return 15\n",
    "    elif brand == 'ALIENWARE':\n",
    "        return 16\n",
    "    \n",
    "dataset['Brand'] = dataset['Brand'].apply(replace_brand)\n",
    "dataset['Brand'].unique()"
   ]
  },
  {
   "cell_type": "code",
   "execution_count": 42,
   "id": "332ef878",
   "metadata": {},
   "outputs": [],
   "source": [
    "dataset.drop(columns=['Processor_Type'],inplace=True)"
   ]
  },
  {
   "cell_type": "code",
   "execution_count": 43,
   "id": "b15c2c86",
   "metadata": {},
   "outputs": [
    {
     "data": {
      "text/plain": [
       "array(['Windows 11', 'Windows 10', 'Mac', 'Chrome'], dtype=object)"
      ]
     },
     "execution_count": 43,
     "metadata": {},
     "output_type": "execute_result"
    }
   ],
   "source": [
    "dataset['Operating_System'].unique()"
   ]
  },
  {
   "cell_type": "code",
   "execution_count": 44,
   "id": "24fb8d8e",
   "metadata": {},
   "outputs": [
    {
     "data": {
      "text/plain": [
       "array([1, 2, 3, 4], dtype=int64)"
      ]
     },
     "execution_count": 44,
     "metadata": {},
     "output_type": "execute_result"
    }
   ],
   "source": [
    "# Operating System Type\n",
    "\n",
    "def replace_os(os):\n",
    "    \n",
    "    if os == 'Windows 11':\n",
    "        return 1\n",
    "    elif os == 'Windows 10':\n",
    "        return 2\n",
    "    elif os == 'Mac':\n",
    "        return 3\n",
    "    elif os == 'Chrome':\n",
    "        return 4\n",
    "    elif os == 'DOS':\n",
    "        return 5\n",
    "    \n",
    "dataset['Operating_System'] = dataset['Operating_System'].apply(replace_os)\n",
    "dataset['Operating_System'].unique()"
   ]
  },
  {
   "cell_type": "code",
   "execution_count": 45,
   "id": "a57f56e9",
   "metadata": {},
   "outputs": [
    {
     "data": {
      "text/plain": [
       "array(['DDR4', 'DDR5', 'LPDDR4', 'Unified', 'LPDDR4X', 'LPDDR5', 'LPDDR3'],\n",
       "      dtype=object)"
      ]
     },
     "execution_count": 45,
     "metadata": {},
     "output_type": "execute_result"
    }
   ],
   "source": [
    "dataset['RAM_Type'].unique()"
   ]
  },
  {
   "cell_type": "code",
   "execution_count": 46,
   "id": "698ed3f1",
   "metadata": {},
   "outputs": [
    {
     "data": {
      "text/plain": [
       "array([1, 2, 3, 4, 5, 6, 7], dtype=int64)"
      ]
     },
     "execution_count": 46,
     "metadata": {},
     "output_type": "execute_result"
    }
   ],
   "source": [
    "# RAM Type\n",
    "\n",
    "def replace_ram_type(ram_type):\n",
    "    \n",
    "    if ram_type == 'DDR4':\n",
    "        return 1\n",
    "    elif ram_type == 'DDR5':\n",
    "        return 2\n",
    "    elif ram_type == 'LPDDR4':\n",
    "        return 3\n",
    "    elif ram_type == 'Unified':\n",
    "        return 4\n",
    "    elif ram_type == 'LPDDR4X':\n",
    "        return 5\n",
    "    elif ram_type == 'LPDDR5':\n",
    "        return 6\n",
    "    elif ram_type == 'LPDDR3':\n",
    "        return 7\n",
    "    \n",
    "dataset['RAM_Type'] = dataset['RAM_Type'].apply(replace_ram_type)\n",
    "dataset['RAM_Type'].unique()"
   ]
  },
  {
   "cell_type": "code",
   "execution_count": 47,
   "id": "274abf7b",
   "metadata": {},
   "outputs": [
    {
     "data": {
      "text/plain": [
       "array(['8GB', '16GB', '4GB', '32GB'], dtype=object)"
      ]
     },
     "execution_count": 47,
     "metadata": {},
     "output_type": "execute_result"
    }
   ],
   "source": [
    "dataset['RAM_Size'].unique()"
   ]
  },
  {
   "cell_type": "code",
   "execution_count": 48,
   "id": "3755f675",
   "metadata": {},
   "outputs": [
    {
     "data": {
      "text/plain": [
       "array([1, 2, 3, 4], dtype=int64)"
      ]
     },
     "execution_count": 48,
     "metadata": {},
     "output_type": "execute_result"
    }
   ],
   "source": [
    "# RAM Sizes\n",
    "\n",
    "def replace_ram_size(ram_size):\n",
    "    \n",
    "    if ram_size == '8GB':\n",
    "        return 1\n",
    "    elif ram_size == '16GB':\n",
    "        return 2\n",
    "    elif ram_size == '4GB':\n",
    "        return 3\n",
    "    elif ram_size == '32GB':\n",
    "        return 4\n",
    "\n",
    "    \n",
    "dataset['RAM_Size'] = dataset['RAM_Size'].apply(replace_ram_size)\n",
    "dataset['RAM_Size'].unique()"
   ]
  },
  {
   "cell_type": "code",
   "execution_count": 49,
   "id": "bd405d87",
   "metadata": {},
   "outputs": [
    {
     "data": {
      "text/plain": [
       "array(['SSD', 'HDD', 'EMMC'], dtype=object)"
      ]
     },
     "execution_count": 49,
     "metadata": {},
     "output_type": "execute_result"
    }
   ],
   "source": [
    "dataset['Disc_Type'].unique()"
   ]
  },
  {
   "cell_type": "code",
   "execution_count": 50,
   "id": "09742e6e",
   "metadata": {},
   "outputs": [
    {
     "data": {
      "text/plain": [
       "array([1, 2, 3], dtype=int64)"
      ]
     },
     "execution_count": 50,
     "metadata": {},
     "output_type": "execute_result"
    }
   ],
   "source": [
    "# Disc Type\n",
    "\n",
    "def replace_disc_type(disc_type):\n",
    "    \n",
    "    if disc_type == 'SSD':\n",
    "        return 1\n",
    "    elif disc_type == 'HDD':\n",
    "        return 2\n",
    "    elif disc_type == 'EMMC':\n",
    "        return 3\n",
    "\n",
    "    \n",
    "dataset['Disc_Type'] = dataset['Disc_Type'].apply(replace_disc_type)\n",
    "dataset['Disc_Type'].unique()"
   ]
  },
  {
   "cell_type": "code",
   "execution_count": 51,
   "id": "4722d431",
   "metadata": {},
   "outputs": [
    {
     "data": {
      "text/plain": [
       "array(['256GB', '512GB', '1TB', '128GB', '64GB', '32GB', '2TB'],\n",
       "      dtype=object)"
      ]
     },
     "execution_count": 51,
     "metadata": {},
     "output_type": "execute_result"
    }
   ],
   "source": [
    "dataset['Disc_Size'].unique()"
   ]
  },
  {
   "cell_type": "code",
   "execution_count": 52,
   "id": "fec5516a",
   "metadata": {},
   "outputs": [
    {
     "data": {
      "text/plain": [
       "array([1, 2, 3, 4, 5, 6, 7], dtype=int64)"
      ]
     },
     "execution_count": 52,
     "metadata": {},
     "output_type": "execute_result"
    }
   ],
   "source": [
    "# Disc Sizes\n",
    "\n",
    "def replace_disc_size(disc_size):\n",
    "    \n",
    "    if disc_size == '256GB':\n",
    "        return 1\n",
    "    elif disc_size == '512GB':\n",
    "        return 2\n",
    "    elif disc_size == '1TB':\n",
    "        return 3\n",
    "    elif disc_size == '128GB':\n",
    "        return 4\n",
    "    elif disc_size == '64GB':\n",
    "        return 5\n",
    "    elif disc_size == '32GB':\n",
    "        return 6\n",
    "    elif disc_size == '2TB':\n",
    "        return 7\n",
    "    \n",
    "dataset['Disc_Size'] = dataset['Disc_Size'].apply(replace_disc_size)\n",
    "dataset['Disc_Size'].unique()"
   ]
  },
  {
   "cell_type": "code",
   "execution_count": 53,
   "id": "b79967dc",
   "metadata": {},
   "outputs": [
    {
     "data": {
      "image/png": "[encoded data removed]",
      "text/plain": [
       "<Figure size 432x288 with 1 Axes>"
      ]
     },
     "metadata": {
      "needs_background": "light"
     },
     "output_type": "display_data"
    }
   ],
   "source": [
    "dataset['MRP'].plot(kind='box')\n",
    "plt.show()"
   ]
  },
  {
   "cell_type": "code",
   "execution_count": 54,
   "id": "edfd8e0e",
   "metadata": {},
   "outputs": [],
   "source": [
    "X = dataset.drop(columns=['MRP'])\n",
    "y = dataset['MRP']"
   ]
  },
  {
   "cell_type": "code",
   "execution_count": 55,
   "id": "7fd0f362",
   "metadata": {},
   "outputs": [],
   "source": [
    "scaler = StandardScaler()\n",
    "X = scaler.fit_transform(X)"
   ]
  },
  {
   "cell_type": "code",
   "execution_count": 56,
   "id": "e937df02",
   "metadata": {},
   "outputs": [],
   "source": [
    "X_train,X_test,y_train,y_test = train_test_split(X,y,test_size=0.15,random_state=2)"
   ]
  },
  {
   "cell_type": "code",
   "execution_count": 57,
   "id": "2ea3fb5a",
   "metadata": {},
   "outputs": [
    {
     "data": {
      "text/html": [
       "<style>#sk-container-id-1 {color: black;background-color: white;}#sk-container-id-1 pre{padding: 0;}#sk-container-id-1 div.sk-toggleable {background-color: white;}#sk-container-id-1 label.sk-toggleable__label {cursor: pointer;display: block;width: 100%;margin-bottom: 0;padding: 0.3em;box-sizing: border-box;text-align: center;}#sk-container-id-1 label.sk-toggleable__label-arrow:before {content: \"▸\";float: left;margin-right: 0.25em;color: #696969;}#sk-container-id-1 label.sk-toggleable__label-arrow:hover:before {color: black;}#sk-container-id-1 div.sk-estimator:hover label.sk-toggleable__label-arrow:before {color: black;}#sk-container-id-1 div.sk-toggleable__content {max-height: 0;max-width: 0;overflow: hidden;text-align: left;background-color: #f0f8ff;}#sk-container-id-1 div.sk-toggleable__content pre {margin: 0.2em;color: black;border-radius: 0.25em;background-color: #f0f8ff;}#sk-container-id-1 input.sk-toggleable__control:checked~div.sk-toggleable__content {max-height: 200px;max-width: 100%;overflow: auto;}#sk-container-id-1 input.sk-toggleable__control:checked~label.sk-toggleable__label-arrow:before {content: \"▾\";}#sk-container-id-1 div.sk-estimator input.sk-toggleable__control:checked~label.sk-toggleable__label {background-color: #d4ebff;}#sk-container-id-1 div.sk-label input.sk-toggleable__control:checked~label.sk-toggleable__label {background-color: #d4ebff;}#sk-container-id-1 input.sk-hidden--visually {border: 0;clip: rect(1px 1px 1px 1px);clip: rect(1px, 1px, 1px, 1px);height: 1px;margin: -1px;overflow: hidden;padding: 0;position: absolute;width: 1px;}#sk-container-id-1 div.sk-estimator {font-family: monospace;background-color: #f0f8ff;border: 1px dotted black;border-radius: 0.25em;box-sizing: border-box;margin-bottom: 0.5em;}#sk-container-id-1 div.sk-estimator:hover {background-color: #d4ebff;}#sk-container-id-1 div.sk-parallel-item::after {content: \"\";width: 100%;border-bottom: 1px solid gray;flex-grow: 1;}#sk-container-id-1 div.sk-label:hover label.sk-toggleable__label {background-color: #d4ebff;}#sk-container-id-1 div.sk-serial::before {content: \"\";position: absolute;border-left: 1px solid gray;box-sizing: border-box;top: 0;bottom: 0;left: 50%;z-index: 0;}#sk-container-id-1 div.sk-serial {display: flex;flex-direction: column;align-items: center;background-color: white;padding-right: 0.2em;padding-left: 0.2em;position: relative;}#sk-container-id-1 div.sk-item {position: relative;z-index: 1;}#sk-container-id-1 div.sk-parallel {display: flex;align-items: stretch;justify-content: center;background-color: white;position: relative;}#sk-container-id-1 div.sk-item::before, #sk-container-id-1 div.sk-parallel-item::before {content: \"\";position: absolute;border-left: 1px solid gray;box-sizing: border-box;top: 0;bottom: 0;left: 50%;z-index: -1;}#sk-container-id-1 div.sk-parallel-item {display: flex;flex-direction: column;z-index: 1;position: relative;background-color: white;}#sk-container-id-1 div.sk-parallel-item:first-child::after {align-self: flex-end;width: 50%;}#sk-container-id-1 div.sk-parallel-item:last-child::after {align-self: flex-start;width: 50%;}#sk-container-id-1 div.sk-parallel-item:only-child::after {width: 0;}#sk-container-id-1 div.sk-dashed-wrapped {border: 1px dashed gray;margin: 0 0.4em 0.5em 0.4em;box-sizing: border-box;padding-bottom: 0.4em;background-color: white;}#sk-container-id-1 div.sk-label label {font-family: monospace;font-weight: bold;display: inline-block;line-height: 1.2em;}#sk-container-id-1 div.sk-label-container {text-align: center;}#sk-container-id-1 div.sk-container {/* jupyter's `normalize.less` sets `[hidden] { display: none; }` but bootstrap.min.css set `[hidden] { display: none !important; }` so we also need the `!important` here to be able to override the default hidden behavior on the sphinx rendered scikit-learn.org. See: https://github.com/scikit-learn/scikit-learn/issues/21755 */display: inline-block !important;position: relative;}#sk-container-id-1 div.sk-text-repr-fallback {display: none;}</style><div id=\"sk-container-id-1\" class=\"sk-top-container\"><div class=\"sk-text-repr-fallback\"><pre>XGBRegressor(base_score=0.5, booster=&#x27;gbtree&#x27;, callbacks=None,\n",
       "             colsample_bylevel=1, colsample_bynode=1, colsample_bytree=1,\n",
       "             early_stopping_rounds=None, enable_categorical=False,\n",
       "             eval_metric=None, gamma=0, gpu_id=-1, grow_policy=&#x27;depthwise&#x27;,\n",
       "             importance_type=None, interaction_constraints=&#x27;&#x27;,\n",
       "             learning_rate=0.5, max_bin=256, max_cat_to_onehot=4,\n",
       "             max_delta_step=0, max_depth=5, max_leaves=0, min_child_weight=1,\n",
       "             missing=nan, monotone_constraints=&#x27;()&#x27;, n_estimators=45, n_jobs=0,\n",
       "             num_parallel_tree=1, predictor=&#x27;auto&#x27;, random_state=0, reg_alpha=0,\n",
       "             reg_lambda=1, ...)</pre><b>In a Jupyter environment, please rerun this cell to show the HTML representation or trust the notebook. <br />On GitHub, the HTML representation is unable to render, please try loading this page with nbviewer.org.</b></div><div class=\"sk-container\" hidden><div class=\"sk-item\"><div class=\"sk-estimator sk-toggleable\"><input class=\"sk-toggleable__control sk-hidden--visually\" id=\"sk-estimator-id-1\" type=\"checkbox\" checked><label for=\"sk-estimator-id-1\" class=\"sk-toggleable__label sk-toggleable__label-arrow\">XGBRegressor</label><div class=\"sk-toggleable__content\"><pre>XGBRegressor(base_score=0.5, booster=&#x27;gbtree&#x27;, callbacks=None,\n",
       "             colsample_bylevel=1, colsample_bynode=1, colsample_bytree=1,\n",
       "             early_stopping_rounds=None, enable_categorical=False,\n",
       "             eval_metric=None, gamma=0, gpu_id=-1, grow_policy=&#x27;depthwise&#x27;,\n",
       "             importance_type=None, interaction_constraints=&#x27;&#x27;,\n",
       "             learning_rate=0.5, max_bin=256, max_cat_to_onehot=4,\n",
       "             max_delta_step=0, max_depth=5, max_leaves=0, min_child_weight=1,\n",
       "             missing=nan, monotone_constraints=&#x27;()&#x27;, n_estimators=45, n_jobs=0,\n",
       "             num_parallel_tree=1, predictor=&#x27;auto&#x27;, random_state=0, reg_alpha=0,\n",
       "             reg_lambda=1, ...)</pre></div></div></div></div></div>"
      ],
      "text/plain": [
       "XGBRegressor(base_score=0.5, booster='gbtree', callbacks=None,\n",
       "             colsample_bylevel=1, colsample_bynode=1, colsample_bytree=1,\n",
       "             early_stopping_rounds=None, enable_categorical=False,\n",
       "             eval_metric=None, gamma=0, gpu_id=-1, grow_policy='depthwise',\n",
       "             importance_type=None, interaction_constraints='',\n",
       "             learning_rate=0.5, max_bin=256, max_cat_to_onehot=4,\n",
       "             max_delta_step=0, max_depth=5, max_leaves=0, min_child_weight=1,\n",
       "             missing=nan, monotone_constraints='()', n_estimators=45, n_jobs=0,\n",
       "             num_parallel_tree=1, predictor='auto', random_state=0, reg_alpha=0,\n",
       "             reg_lambda=1, ...)"
      ]
     },
     "execution_count": 57,
     "metadata": {},
     "output_type": "execute_result"
    }
   ],
   "source": [
    "linear = LinearRegression()\n",
    "linear.fit(X_train,y_train)\n",
    "\n",
    "neighbor = KNeighborsRegressor(n_neighbors=3)\n",
    "neighbor.fit(X_train,y_train)\n",
    "\n",
    "dectree = DecisionTreeRegressor(max_depth=8)\n",
    "dectree.fit(X_train,y_train)\n",
    "\n",
    "randforest = RandomForestRegressor(n_estimators=100,\n",
    "                              random_state=3,\n",
    "                              max_samples=0.5,\n",
    "                              max_features=0.75,\n",
    "                              max_depth=15)\n",
    "randforest.fit(X_train,y_train)\n",
    "\n",
    "gradboost = GradientBoostingRegressor(n_estimators=500)\n",
    "gradboost.fit(X_train,y_train)\n",
    "\n",
    "adaboost = AdaBoostRegressor(n_estimators=15,learning_rate=1.0)\n",
    "adaboost.fit(X_train,y_train)\n",
    "\n",
    "extree = ExtraTreesRegressor(n_estimators=100,\n",
    "                              random_state=3,\n",
    "                              max_samples=0.5,\n",
    "                              max_features=0.75,\n",
    "                              max_depth=15,bootstrap=True)\n",
    "extree.fit(X_train,y_train)\n",
    "\n",
    "svm = SVR(kernel='rbf',C=10000,epsilon=0.1)\n",
    "svm.fit(X_train,y_train)\n",
    "\n",
    "xg = XGBRegressor(n_estimators=45,max_depth=5,learning_rate=0.5)\n",
    "xg.fit(X_train,y_train)"
   ]
  },
  {
   "cell_type": "code",
   "execution_count": 58,
   "id": "fc6d717c",
   "metadata": {},
   "outputs": [],
   "source": [
    "y_pred_1 = linear.predict(X_test)\n",
    "y_pred_2 = neighbor.predict(X_test)\n",
    "y_pred_3 = dectree.predict(X_test)\n",
    "y_pred_4 = randforest.predict(X_test)\n",
    "y_pred_5 = gradboost.predict(X_test)\n",
    "y_pred_6 = adaboost.predict(X_test)\n",
    "y_pred_7 = extree.predict(X_test)\n",
    "y_pred_8 = svm.predict(X_test)\n",
    "y_pred_9 = xg.predict(X_test)\n",
    "# y_pred_10 = .predict(X_test)"
   ]
  },
  {
   "cell_type": "code",
   "execution_count": 59,
   "id": "a4190f8d",
   "metadata": {},
   "outputs": [],
   "source": [
    "score_1 = metrics.r2_score(y_test,y_pred_1)\n",
    "score_2 = metrics.r2_score(y_test,y_pred_2)\n",
    "score_3 = metrics.r2_score(y_test,y_pred_3)\n",
    "score_4 = metrics.r2_score(y_test,y_pred_4)\n",
    "score_5 = metrics.r2_score(y_test,y_pred_5)\n",
    "score_6 = metrics.r2_score(y_test,y_pred_6)\n",
    "score_7 = metrics.r2_score(y_test,y_pred_7)\n",
    "score_8 = metrics.r2_score(y_test,y_pred_8)\n",
    "score_9 = metrics.r2_score(y_test,y_pred_9)\n",
    "# score_4 = metrics.r2_score(y_test,y_pred_10)"
   ]
  },
  {
   "cell_type": "code",
   "execution_count": 60,
   "id": "71ea0950",
   "metadata": {},
   "outputs": [
    {
     "name": "stdout",
     "output_type": "stream",
     "text": [
      "0.5522726773815707 0.629006994410689 0.6692898914147595 0.7905422405112288 0.7804416999740463 0.7020573289385743 0.7871436066404109 0.42759947669799026 0.8019127225005865\n"
     ]
    }
   ],
   "source": [
    "print(score_1,score_2,score_3,score_4,score_5,score_6,score_7,score_8,score_9)"
   ]
  },
  {
   "cell_type": "code",
   "execution_count": 61,
   "id": "44514c51",
   "metadata": {},
   "outputs": [],
   "source": [
    "final_data = pd.DataFrame({'Models':['Linear','Neighbor','Dectree','Randforest','Gradboost','Adaboost','Extree','Svm','Xg'],\n",
    "              'R2_Score':[score_1,score_2,score_3,score_4,score_5,score_6,score_7,score_8,score_9]})"
   ]
  },
  {
   "cell_type": "code",
   "execution_count": 87,
   "id": "635d15aa",
   "metadata": {},
   "outputs": [
    {
     "data": {
      "text/html": [
       "<div>\n",
       "<style scoped>\n",
       "    .dataframe tbody tr th:only-of-type {\n",
       "        vertical-align: middle;\n",
       "    }\n",
       "\n",
       "    .dataframe tbody tr th {\n",
       "        vertical-align: top;\n",
       "    }\n",
       "\n",
       "    .dataframe thead th {\n",
       "        text-align: right;\n",
       "    }\n",
       "</style>\n",
       "<table border=\"1\" class=\"dataframe\">\n",
       "  <thead>\n",
       "    <tr style=\"text-align: right;\">\n",
       "      <th></th>\n",
       "      <th>Models</th>\n",
       "      <th>R2_Score</th>\n",
       "    </tr>\n",
       "  </thead>\n",
       "  <tbody>\n",
       "    <tr>\n",
       "      <th>0</th>\n",
       "      <td>Linear</td>\n",
       "      <td>0.506840</td>\n",
       "    </tr>\n",
       "    <tr>\n",
       "      <th>1</th>\n",
       "      <td>Neighbor</td>\n",
       "      <td>0.795473</td>\n",
       "    </tr>\n",
       "    <tr>\n",
       "      <th>2</th>\n",
       "      <td>Dectree</td>\n",
       "      <td>0.666793</td>\n",
       "    </tr>\n",
       "    <tr>\n",
       "      <th>3</th>\n",
       "      <td>Randforest</td>\n",
       "      <td>0.773126</td>\n",
       "    </tr>\n",
       "    <tr>\n",
       "      <th>4</th>\n",
       "      <td>Gradboost</td>\n",
       "      <td>0.718369</td>\n",
       "    </tr>\n",
       "    <tr>\n",
       "      <th>5</th>\n",
       "      <td>Adaboost</td>\n",
       "      <td>0.652002</td>\n",
       "    </tr>\n",
       "    <tr>\n",
       "      <th>6</th>\n",
       "      <td>Extree</td>\n",
       "      <td>0.773801</td>\n",
       "    </tr>\n",
       "    <tr>\n",
       "      <th>7</th>\n",
       "      <td>Svm</td>\n",
       "      <td>0.546288</td>\n",
       "    </tr>\n",
       "    <tr>\n",
       "      <th>8</th>\n",
       "      <td>Xg</td>\n",
       "      <td>0.716781</td>\n",
       "    </tr>\n",
       "  </tbody>\n",
       "</table>\n",
       "</div>"
      ],
      "text/plain": [
       "       Models  R2_Score\n",
       "0      Linear  0.506840\n",
       "1    Neighbor  0.795473\n",
       "2     Dectree  0.666793\n",
       "3  Randforest  0.773126\n",
       "4   Gradboost  0.718369\n",
       "5    Adaboost  0.652002\n",
       "6      Extree  0.773801\n",
       "7         Svm  0.546288\n",
       "8          Xg  0.716781"
      ]
     },
     "execution_count": 87,
     "metadata": {},
     "output_type": "execute_result"
    }
   ],
   "source": [
    "final_data"
   ]
  },
  {
   "cell_type": "code",
   "execution_count": 88,
   "id": "9eb1f817",
   "metadata": {},
   "outputs": [
    {
     "name": "stdout",
     "output_type": "stream",
     "text": [
      "Fitting 3 folds for each of 100 candidates, totalling 300 fits\n"
     ]
    },
    {
     "data": {
      "text/html": [
       "<style>#sk-container-id-2 {color: black;background-color: white;}#sk-container-id-2 pre{padding: 0;}#sk-container-id-2 div.sk-toggleable {background-color: white;}#sk-container-id-2 label.sk-toggleable__label {cursor: pointer;display: block;width: 100%;margin-bottom: 0;padding: 0.3em;box-sizing: border-box;text-align: center;}#sk-container-id-2 label.sk-toggleable__label-arrow:before {content: \"▸\";float: left;margin-right: 0.25em;color: #696969;}#sk-container-id-2 label.sk-toggleable__label-arrow:hover:before {color: black;}#sk-container-id-2 div.sk-estimator:hover label.sk-toggleable__label-arrow:before {color: black;}#sk-container-id-2 div.sk-toggleable__content {max-height: 0;max-width: 0;overflow: hidden;text-align: left;background-color: #f0f8ff;}#sk-container-id-2 div.sk-toggleable__content pre {margin: 0.2em;color: black;border-radius: 0.25em;background-color: #f0f8ff;}#sk-container-id-2 input.sk-toggleable__control:checked~div.sk-toggleable__content {max-height: 200px;max-width: 100%;overflow: auto;}#sk-container-id-2 input.sk-toggleable__control:checked~label.sk-toggleable__label-arrow:before {content: \"▾\";}#sk-container-id-2 div.sk-estimator input.sk-toggleable__control:checked~label.sk-toggleable__label {background-color: #d4ebff;}#sk-container-id-2 div.sk-label input.sk-toggleable__control:checked~label.sk-toggleable__label {background-color: #d4ebff;}#sk-container-id-2 input.sk-hidden--visually {border: 0;clip: rect(1px 1px 1px 1px);clip: rect(1px, 1px, 1px, 1px);height: 1px;margin: -1px;overflow: hidden;padding: 0;position: absolute;width: 1px;}#sk-container-id-2 div.sk-estimator {font-family: monospace;background-color: #f0f8ff;border: 1px dotted black;border-radius: 0.25em;box-sizing: border-box;margin-bottom: 0.5em;}#sk-container-id-2 div.sk-estimator:hover {background-color: #d4ebff;}#sk-container-id-2 div.sk-parallel-item::after {content: \"\";width: 100%;border-bottom: 1px solid gray;flex-grow: 1;}#sk-container-id-2 div.sk-label:hover label.sk-toggleable__label {background-color: #d4ebff;}#sk-container-id-2 div.sk-serial::before {content: \"\";position: absolute;border-left: 1px solid gray;box-sizing: border-box;top: 0;bottom: 0;left: 50%;z-index: 0;}#sk-container-id-2 div.sk-serial {display: flex;flex-direction: column;align-items: center;background-color: white;padding-right: 0.2em;padding-left: 0.2em;position: relative;}#sk-container-id-2 div.sk-item {position: relative;z-index: 1;}#sk-container-id-2 div.sk-parallel {display: flex;align-items: stretch;justify-content: center;background-color: white;position: relative;}#sk-container-id-2 div.sk-item::before, #sk-container-id-2 div.sk-parallel-item::before {content: \"\";position: absolute;border-left: 1px solid gray;box-sizing: border-box;top: 0;bottom: 0;left: 50%;z-index: -1;}#sk-container-id-2 div.sk-parallel-item {display: flex;flex-direction: column;z-index: 1;position: relative;background-color: white;}#sk-container-id-2 div.sk-parallel-item:first-child::after {align-self: flex-end;width: 50%;}#sk-container-id-2 div.sk-parallel-item:last-child::after {align-self: flex-start;width: 50%;}#sk-container-id-2 div.sk-parallel-item:only-child::after {width: 0;}#sk-container-id-2 div.sk-dashed-wrapped {border: 1px dashed gray;margin: 0 0.4em 0.5em 0.4em;box-sizing: border-box;padding-bottom: 0.4em;background-color: white;}#sk-container-id-2 div.sk-label label {font-family: monospace;font-weight: bold;display: inline-block;line-height: 1.2em;}#sk-container-id-2 div.sk-label-container {text-align: center;}#sk-container-id-2 div.sk-container {/* jupyter's `normalize.less` sets `[hidden] { display: none; }` but bootstrap.min.css set `[hidden] { display: none !important; }` so we also need the `!important` here to be able to override the default hidden behavior on the sphinx rendered scikit-learn.org. See: https://github.com/scikit-learn/scikit-learn/issues/21755 */display: inline-block !important;position: relative;}#sk-container-id-2 div.sk-text-repr-fallback {display: none;}</style><div id=\"sk-container-id-2\" class=\"sk-top-container\"><div class=\"sk-text-repr-fallback\"><pre>RandomizedSearchCV(cv=3,\n",
       "                   estimator=XGBRegressor(base_score=None, booster=None,\n",
       "                                          callbacks=None,\n",
       "                                          colsample_bylevel=None,\n",
       "                                          colsample_bynode=None,\n",
       "                                          colsample_bytree=None,\n",
       "                                          early_stopping_rounds=None,\n",
       "                                          enable_categorical=False,\n",
       "                                          eval_metric=None, gamma=None,\n",
       "                                          gpu_id=None, grow_policy=None,\n",
       "                                          importance_type=None,\n",
       "                                          interaction_constraints=None,\n",
       "                                          learning_rate=0.15, max_bin=None,\n",
       "                                          m...\n",
       "                                                  3.2, 6.4, 12.8, 25.6, 51.2,\n",
       "                                                  102.4, 200],\n",
       "                                        &#x27;learning_rate&#x27;: [0.01, 0.03, 0.06, 0.1,\n",
       "                                                          0.15, 0.2, 0.25,\n",
       "                                                          0.300000012, 0.4, 0.5,\n",
       "                                                          0.6, 0.7],\n",
       "                                        &#x27;max_depth&#x27;: [5, 6, 7, 8, 9, 10, 11, 12,\n",
       "                                                      13, 14],\n",
       "                                        &#x27;n_estimators&#x27;: [50, 65, 80, 100, 115,\n",
       "                                                         130, 150],\n",
       "                                        &#x27;reg_alpha&#x27;: [0, 0.1, 0.2, 0.4, 0.8,\n",
       "                                                      1.6, 3.2, 6.4, 12.8, 25.6,\n",
       "                                                      51.2, 102.4, 200],\n",
       "                                        &#x27;reg_lambda&#x27;: [0, 0.1, 0.2, 0.4, 0.8,\n",
       "                                                       1.6, 3.2, 6.4, 12.8,\n",
       "                                                       25.6, 51.2, 102.4,\n",
       "                                                       200]},\n",
       "                   random_state=15, verbose=1)</pre><b>In a Jupyter environment, please rerun this cell to show the HTML representation or trust the notebook. <br />On GitHub, the HTML representation is unable to render, please try loading this page with nbviewer.org.</b></div><div class=\"sk-container\" hidden><div class=\"sk-item sk-dashed-wrapped\"><div class=\"sk-label-container\"><div class=\"sk-label sk-toggleable\"><input class=\"sk-toggleable__control sk-hidden--visually\" id=\"sk-estimator-id-2\" type=\"checkbox\" ><label for=\"sk-estimator-id-2\" class=\"sk-toggleable__label sk-toggleable__label-arrow\">RandomizedSearchCV</label><div class=\"sk-toggleable__content\"><pre>RandomizedSearchCV(cv=3,\n",
       "                   estimator=XGBRegressor(base_score=None, booster=None,\n",
       "                                          callbacks=None,\n",
       "                                          colsample_bylevel=None,\n",
       "                                          colsample_bynode=None,\n",
       "                                          colsample_bytree=None,\n",
       "                                          early_stopping_rounds=None,\n",
       "                                          enable_categorical=False,\n",
       "                                          eval_metric=None, gamma=None,\n",
       "                                          gpu_id=None, grow_policy=None,\n",
       "                                          importance_type=None,\n",
       "                                          interaction_constraints=None,\n",
       "                                          learning_rate=0.15, max_bin=None,\n",
       "                                          m...\n",
       "                                                  3.2, 6.4, 12.8, 25.6, 51.2,\n",
       "                                                  102.4, 200],\n",
       "                                        &#x27;learning_rate&#x27;: [0.01, 0.03, 0.06, 0.1,\n",
       "                                                          0.15, 0.2, 0.25,\n",
       "                                                          0.300000012, 0.4, 0.5,\n",
       "                                                          0.6, 0.7],\n",
       "                                        &#x27;max_depth&#x27;: [5, 6, 7, 8, 9, 10, 11, 12,\n",
       "                                                      13, 14],\n",
       "                                        &#x27;n_estimators&#x27;: [50, 65, 80, 100, 115,\n",
       "                                                         130, 150],\n",
       "                                        &#x27;reg_alpha&#x27;: [0, 0.1, 0.2, 0.4, 0.8,\n",
       "                                                      1.6, 3.2, 6.4, 12.8, 25.6,\n",
       "                                                      51.2, 102.4, 200],\n",
       "                                        &#x27;reg_lambda&#x27;: [0, 0.1, 0.2, 0.4, 0.8,\n",
       "                                                       1.6, 3.2, 6.4, 12.8,\n",
       "                                                       25.6, 51.2, 102.4,\n",
       "                                                       200]},\n",
       "                   random_state=15, verbose=1)</pre></div></div></div><div class=\"sk-parallel\"><div class=\"sk-parallel-item\"><div class=\"sk-item\"><div class=\"sk-label-container\"><div class=\"sk-label sk-toggleable\"><input class=\"sk-toggleable__control sk-hidden--visually\" id=\"sk-estimator-id-3\" type=\"checkbox\" ><label for=\"sk-estimator-id-3\" class=\"sk-toggleable__label sk-toggleable__label-arrow\">estimator: XGBRegressor</label><div class=\"sk-toggleable__content\"><pre>XGBRegressor(base_score=None, booster=None, callbacks=None,\n",
       "             colsample_bylevel=None, colsample_bynode=None,\n",
       "             colsample_bytree=None, early_stopping_rounds=None,\n",
       "             enable_categorical=False, eval_metric=None, gamma=None,\n",
       "             gpu_id=None, grow_policy=None, importance_type=None,\n",
       "             interaction_constraints=None, learning_rate=0.15, max_bin=None,\n",
       "             max_cat_to_onehot=None, max_delta_step=None, max_depth=None,\n",
       "             max_leaves=0, min_child_weight=None, missing=nan,\n",
       "             monotone_constraints=None, n_estimators=50, n_jobs=None,\n",
       "             num_parallel_tree=None, predictor=None, random_state=42,\n",
       "             reg_alpha=None, reg_lambda=None, ...)</pre></div></div></div><div class=\"sk-serial\"><div class=\"sk-item\"><div class=\"sk-estimator sk-toggleable\"><input class=\"sk-toggleable__control sk-hidden--visually\" id=\"sk-estimator-id-4\" type=\"checkbox\" ><label for=\"sk-estimator-id-4\" class=\"sk-toggleable__label sk-toggleable__label-arrow\">XGBRegressor</label><div class=\"sk-toggleable__content\"><pre>XGBRegressor(base_score=None, booster=None, callbacks=None,\n",
       "             colsample_bylevel=None, colsample_bynode=None,\n",
       "             colsample_bytree=None, early_stopping_rounds=None,\n",
       "             enable_categorical=False, eval_metric=None, gamma=None,\n",
       "             gpu_id=None, grow_policy=None, importance_type=None,\n",
       "             interaction_constraints=None, learning_rate=0.15, max_bin=None,\n",
       "             max_cat_to_onehot=None, max_delta_step=None, max_depth=None,\n",
       "             max_leaves=0, min_child_weight=None, missing=nan,\n",
       "             monotone_constraints=None, n_estimators=50, n_jobs=None,\n",
       "             num_parallel_tree=None, predictor=None, random_state=42,\n",
       "             reg_alpha=None, reg_lambda=None, ...)</pre></div></div></div></div></div></div></div></div></div></div>"
      ],
      "text/plain": [
       "RandomizedSearchCV(cv=3,\n",
       "                   estimator=XGBRegressor(base_score=None, booster=None,\n",
       "                                          callbacks=None,\n",
       "                                          colsample_bylevel=None,\n",
       "                                          colsample_bynode=None,\n",
       "                                          colsample_bytree=None,\n",
       "                                          early_stopping_rounds=None,\n",
       "                                          enable_categorical=False,\n",
       "                                          eval_metric=None, gamma=None,\n",
       "                                          gpu_id=None, grow_policy=None,\n",
       "                                          importance_type=None,\n",
       "                                          interaction_constraints=None,\n",
       "                                          learning_rate=0.15, max_bin=None,\n",
       "                                          m...\n",
       "                                                  3.2, 6.4, 12.8, 25.6, 51.2,\n",
       "                                                  102.4, 200],\n",
       "                                        'learning_rate': [0.01, 0.03, 0.06, 0.1,\n",
       "                                                          0.15, 0.2, 0.25,\n",
       "                                                          0.300000012, 0.4, 0.5,\n",
       "                                                          0.6, 0.7],\n",
       "                                        'max_depth': [5, 6, 7, 8, 9, 10, 11, 12,\n",
       "                                                      13, 14],\n",
       "                                        'n_estimators': [50, 65, 80, 100, 115,\n",
       "                                                         130, 150],\n",
       "                                        'reg_alpha': [0, 0.1, 0.2, 0.4, 0.8,\n",
       "                                                      1.6, 3.2, 6.4, 12.8, 25.6,\n",
       "                                                      51.2, 102.4, 200],\n",
       "                                        'reg_lambda': [0, 0.1, 0.2, 0.4, 0.8,\n",
       "                                                       1.6, 3.2, 6.4, 12.8,\n",
       "                                                       25.6, 51.2, 102.4,\n",
       "                                                       200]},\n",
       "                   random_state=15, verbose=1)"
      ]
     },
     "execution_count": 88,
     "metadata": {},
     "output_type": "execute_result"
    }
   ],
   "source": [
    "param_grid = {'gamma': [0,0.1,0.2,0.4,0.8,1.6,3.2,6.4,12.8,25.6,51.2,102.4, 200],\n",
    "              'learning_rate': [0.01, 0.03, 0.06, 0.1, 0.15, 0.2, 0.25, 0.300000012, 0.4, 0.5, 0.6, 0.7],\n",
    "              'max_depth': [5,6,7,8,9,10,11,12,13,14],\n",
    "              'n_estimators': [50,65,80,100,115,130,150],\n",
    "              'reg_alpha': [0,0.1,0.2,0.4,0.8,1.6,3.2,6.4,12.8,25.6,51.2,102.4,200],\n",
    "              'reg_lambda': [0,0.1,0.2,0.4,0.8,1.6,3.2,6.4,12.8,25.6,51.2,102.4,200]}\n",
    "\n",
    "xgb = XGBRegressor(learning_rate=0.15, n_estimators=50, max_leaves=0, random_state=42)\n",
    "rcv = RandomizedSearchCV(estimator=xgb,param_distributions=param_grid, n_iter=100, cv=3, \n",
    "                               verbose=1, random_state=15, n_jobs=-1)\n",
    "\n",
    "rcv.fit(X_train,y_train)"
   ]
  },
  {
   "cell_type": "code",
   "execution_count": 89,
   "id": "a22713e1",
   "metadata": {},
   "outputs": [],
   "source": [
    "y_pred = rcv.predict(X_test)"
   ]
  },
  {
   "cell_type": "code",
   "execution_count": 90,
   "id": "1d39b065",
   "metadata": {},
   "outputs": [],
   "source": [
    "score = metrics.r2_score(y_test,y_pred)"
   ]
  },
  {
   "cell_type": "code",
   "execution_count": 91,
   "id": "19893ae1",
   "metadata": {},
   "outputs": [
    {
     "name": "stdout",
     "output_type": "stream",
     "text": [
      "0.7534656117582994\n"
     ]
    }
   ],
   "source": [
    "print(score)"
   ]
  },
  {
   "cell_type": "code",
   "execution_count": 92,
   "id": "89097aa1",
   "metadata": {},
   "outputs": [
    {
     "name": "stdout",
     "output_type": "stream",
     "text": [
      "Cross Validations Score:\n",
      " [0.84943138 0.77076389 0.81189853 0.771585   0.76283967 0.83054137\n",
      " 0.87838395 0.83422161 0.79721047 0.8705213  0.85499586 0.89462825\n",
      " 0.83671964 0.76880864 0.87004378 0.8328489  0.85864733 0.82433516\n",
      " 0.79741917 0.76594398]\n",
      "Average Cross Validations Score: 0.8240893937701077\n",
      "Maximum Cross Validations Score: 0.8946282532509302\n",
      "Minimum Cross Validations Score: 0.7628396655795203\n"
     ]
    }
   ],
   "source": [
    "xgb_reg = XGBRegressor(learning_rate=0.15, n_estimators=50, max_leaves=0, random_state=42)\n",
    "\n",
    "k_shuf = ShuffleSplit(n_splits=20, test_size=0.2, random_state=20)\n",
    "c_score = cross_val_score(xgb_reg, X, y, cv=k_shuf)\n",
    "\n",
    "print('Cross Validations Score:\\n', c_score)\n",
    "print('Average Cross Validations Score:', c_score.mean())\n",
    "print('Maximum Cross Validations Score:', c_score.max())\n",
    "print('Minimum Cross Validations Score:', c_score.min())"
   ]
  },
  {
   "cell_type": "code",
   "execution_count": 93,
   "id": "6a668501",
   "metadata": {},
   "outputs": [
    {
     "name": "stdout",
     "output_type": "stream",
     "text": [
      "R2_Score 0.7534656117582994\n",
      "MAE 19231.52813720703\n",
      "MSE 925237539.182854\n"
     ]
    }
   ],
   "source": [
    "xgb_1 = XGBRegressor(learning_rate=0.15, n_estimators=50, max_leaves=0, random_state=42)\n",
    "\n",
    "xgb_1.fit(X_train,y_train)\n",
    "xgb_pred = xgb_1.predict(X_test)\n",
    "\n",
    "print('R2_Score',r2_score(y_test,y_pred))\n",
    "print('MAE',mean_absolute_error(y_test,y_pred))\n",
    "print('MSE',mean_squared_error(y_test,y_pred))"
   ]
  },
  {
   "cell_type": "code",
   "execution_count": 94,
   "id": "c4f5fb1e",
   "metadata": {},
   "outputs": [
    {
     "name": "stdout",
     "output_type": "stream",
     "text": [
      "R2_Score 0.7578928125762698\n",
      "MAE 19522.776638420044\n"
     ]
    }
   ],
   "source": [
    "rf_1 = RandomForestRegressor(n_estimators=350,random_state=3,max_samples=0.5,max_features=0.75,max_depth=15)\n",
    "gbdt_1 = GradientBoostingRegressor(n_estimators=100,max_features=0.5)\n",
    "xgb_2 = XGBRegressor(n_estimators=25,learning_rate=0.3,max_depth=5)\n",
    "et_1 = ExtraTreesRegressor(n_estimators=100,random_state=3,max_samples=0.5,max_features=0.75,max_depth=10,bootstrap=True)\n",
    "\n",
    "\n",
    "vot = VotingRegressor([('rf_1', rf_1), ('gbdt_1', gbdt_1), ('xgb_2',xgb_2), ('et_1',et_1)],weights=[5,1,1,1])\n",
    "\n",
    "vot.fit(X_train,y_train)\n",
    "\n",
    "y_pred = vot.predict(X_test)\n",
    "\n",
    "print('R2_Score',r2_score(y_test,y_pred))\n",
    "print('MAE',mean_absolute_error(y_test,y_pred))"
   ]
  },
  {
   "cell_type": "code",
   "execution_count": 95,
   "id": "89391839",
   "metadata": {},
   "outputs": [
    {
     "name": "stdout",
     "output_type": "stream",
     "text": [
      "R2_Score 0.7515459616459308\n",
      "MAE 19647.897252882387\n"
     ]
    }
   ],
   "source": [
    "estimators = [\n",
    "    ('rf_1', RandomForestRegressor(n_estimators=350,random_state=3,max_samples=0.5,max_features=0.75,max_depth=15)),\n",
    "    ('gbdt_1',GradientBoostingRegressor(n_estimators=100,max_features=0.5)),\n",
    "    ('xgb_2', XGBRegressor(n_estimators=25,learning_rate=0.3,max_depth=5))\n",
    "]\n",
    "\n",
    "stack = StackingRegressor(estimators=estimators,final_estimator=Ridge(alpha=100))   \n",
    "    \n",
    "stack.fit(X_train,y_train)\n",
    "\n",
    "y_pred = stack.predict(X_test)\n",
    "\n",
    "print('R2_Score',r2_score(y_test,y_pred))\n",
    "print('MAE',mean_absolute_error(y_test,y_pred))    "
   ]
  },
  {
   "cell_type": "code",
   "execution_count": 98,
   "id": "5769de2a",
   "metadata": {},
   "outputs": [
    {
     "name": "stdout",
     "output_type": "stream",
     "text": [
      "{'max_depth': None, 'max_features': 'auto', 'min_samples_leaf': 2, 'min_samples_split': 5, 'n_estimators': 50}\n",
      "R2_Score 0.7678571798901682\n",
      "MAE 18895.604953078644\n"
     ]
    }
   ],
   "source": [
    "param_grid = {\n",
    "    'n_estimators': [50, 100, 200],\n",
    "    'max_depth': [None, 5, 10],\n",
    "    'min_samples_split': [2, 5],\n",
    "    'min_samples_leaf': [1, 2, 4],\n",
    "    'max_features': ['auto', 'sqrt', 'log2']\n",
    "}\n",
    "\n",
    "rf_3 = RandomForestRegressor(random_state=42)\n",
    "\n",
    "grid_search_0 = GridSearchCV(rf_3, param_grid, cv=5, scoring='neg_mean_squared_error',n_jobs=-1)\n",
    "\n",
    "grid_search_0.fit(X_train,y_train)\n",
    "\n",
    "print(grid_search_0.best_params_)\n",
    "\n",
    "grid_y_pred_0 = grid_search_0.predict(X_test)\n",
    "\n",
    "print('R2_Score',r2_score(y_test,grid_y_pred_0))\n",
    "print('MAE',mean_absolute_error(y_test,grid_y_pred_0))"
   ]
  },
  {
   "cell_type": "code",
   "execution_count": 99,
   "id": "6f048ac0",
   "metadata": {},
   "outputs": [
    {
     "name": "stdout",
     "output_type": "stream",
     "text": [
      "{'colsample_bytree': 0.5, 'gamma': 0, 'learning_rate': 0.1, 'max_depth': 5, 'n_estimators': 50, 'subsample': 1}\n",
      "R2_Score 0.7201119714108523\n",
      "MAE 19925.267944335938\n"
     ]
    }
   ],
   "source": [
    "param_grid = {\n",
    "    'n_estimators': [50, 100, 200],\n",
    "    'max_depth': [3, 5, 7],\n",
    "    'learning_rate': [0.05, 0.1, 0.2],\n",
    "    'subsample': [0.5, 0.7, 1],\n",
    "    'colsample_bytree': [0.5, 0.7, 1],\n",
    "    'gamma': [0, 0.1, 0.2]\n",
    "}\n",
    "\n",
    "xgb_3 = XGBRegressor(random_state=42)\n",
    "\n",
    "grid_search_1 = GridSearchCV(xgb_3, param_grid, cv=5, scoring='neg_mean_squared_error',n_jobs=-1)\n",
    "\n",
    "grid_search_1.fit(X, y)\n",
    "\n",
    "grid_search_1.fit(X_train,y_train)\n",
    "\n",
    "print(grid_search_1.best_params_)\n",
    "\n",
    "grid_y_pred_2 = grid_search_1.predict(X_test)\n",
    "\n",
    "print('R2_Score',r2_score(y_test,grid_y_pred_2))\n",
    "print('MAE',mean_absolute_error(y_test,grid_y_pred_2))"
   ]
  },
  {
   "cell_type": "code",
   "execution_count": 75,
   "id": "f9634886",
   "metadata": {},
   "outputs": [
    {
     "data": {
      "text/html": [
       "<style>#sk-container-id-5 {color: black;background-color: white;}#sk-container-id-5 pre{padding: 0;}#sk-container-id-5 div.sk-toggleable {background-color: white;}#sk-container-id-5 label.sk-toggleable__label {cursor: pointer;display: block;width: 100%;margin-bottom: 0;padding: 0.3em;box-sizing: border-box;text-align: center;}#sk-container-id-5 label.sk-toggleable__label-arrow:before {content: \"▸\";float: left;margin-right: 0.25em;color: #696969;}#sk-container-id-5 label.sk-toggleable__label-arrow:hover:before {color: black;}#sk-container-id-5 div.sk-estimator:hover label.sk-toggleable__label-arrow:before {color: black;}#sk-container-id-5 div.sk-toggleable__content {max-height: 0;max-width: 0;overflow: hidden;text-align: left;background-color: #f0f8ff;}#sk-container-id-5 div.sk-toggleable__content pre {margin: 0.2em;color: black;border-radius: 0.25em;background-color: #f0f8ff;}#sk-container-id-5 input.sk-toggleable__control:checked~div.sk-toggleable__content {max-height: 200px;max-width: 100%;overflow: auto;}#sk-container-id-5 input.sk-toggleable__control:checked~label.sk-toggleable__label-arrow:before {content: \"▾\";}#sk-container-id-5 div.sk-estimator input.sk-toggleable__control:checked~label.sk-toggleable__label {background-color: #d4ebff;}#sk-container-id-5 div.sk-label input.sk-toggleable__control:checked~label.sk-toggleable__label {background-color: #d4ebff;}#sk-container-id-5 input.sk-hidden--visually {border: 0;clip: rect(1px 1px 1px 1px);clip: rect(1px, 1px, 1px, 1px);height: 1px;margin: -1px;overflow: hidden;padding: 0;position: absolute;width: 1px;}#sk-container-id-5 div.sk-estimator {font-family: monospace;background-color: #f0f8ff;border: 1px dotted black;border-radius: 0.25em;box-sizing: border-box;margin-bottom: 0.5em;}#sk-container-id-5 div.sk-estimator:hover {background-color: #d4ebff;}#sk-container-id-5 div.sk-parallel-item::after {content: \"\";width: 100%;border-bottom: 1px solid gray;flex-grow: 1;}#sk-container-id-5 div.sk-label:hover label.sk-toggleable__label {background-color: #d4ebff;}#sk-container-id-5 div.sk-serial::before {content: \"\";position: absolute;border-left: 1px solid gray;box-sizing: border-box;top: 0;bottom: 0;left: 50%;z-index: 0;}#sk-container-id-5 div.sk-serial {display: flex;flex-direction: column;align-items: center;background-color: white;padding-right: 0.2em;padding-left: 0.2em;position: relative;}#sk-container-id-5 div.sk-item {position: relative;z-index: 1;}#sk-container-id-5 div.sk-parallel {display: flex;align-items: stretch;justify-content: center;background-color: white;position: relative;}#sk-container-id-5 div.sk-item::before, #sk-container-id-5 div.sk-parallel-item::before {content: \"\";position: absolute;border-left: 1px solid gray;box-sizing: border-box;top: 0;bottom: 0;left: 50%;z-index: -1;}#sk-container-id-5 div.sk-parallel-item {display: flex;flex-direction: column;z-index: 1;position: relative;background-color: white;}#sk-container-id-5 div.sk-parallel-item:first-child::after {align-self: flex-end;width: 50%;}#sk-container-id-5 div.sk-parallel-item:last-child::after {align-self: flex-start;width: 50%;}#sk-container-id-5 div.sk-parallel-item:only-child::after {width: 0;}#sk-container-id-5 div.sk-dashed-wrapped {border: 1px dashed gray;margin: 0 0.4em 0.5em 0.4em;box-sizing: border-box;padding-bottom: 0.4em;background-color: white;}#sk-container-id-5 div.sk-label label {font-family: monospace;font-weight: bold;display: inline-block;line-height: 1.2em;}#sk-container-id-5 div.sk-label-container {text-align: center;}#sk-container-id-5 div.sk-container {/* jupyter's `normalize.less` sets `[hidden] { display: none; }` but bootstrap.min.css set `[hidden] { display: none !important; }` so we also need the `!important` here to be able to override the default hidden behavior on the sphinx rendered scikit-learn.org. See: https://github.com/scikit-learn/scikit-learn/issues/21755 */display: inline-block !important;position: relative;}#sk-container-id-5 div.sk-text-repr-fallback {display: none;}</style><div id=\"sk-container-id-5\" class=\"sk-top-container\"><div class=\"sk-text-repr-fallback\"><pre>KNeighborsRegressor(leaf_size=50, n_jobs=-1, n_neighbors=3)</pre><b>In a Jupyter environment, please rerun this cell to show the HTML representation or trust the notebook. <br />On GitHub, the HTML representation is unable to render, please try loading this page with nbviewer.org.</b></div><div class=\"sk-container\" hidden><div class=\"sk-item\"><div class=\"sk-estimator sk-toggleable\"><input class=\"sk-toggleable__control sk-hidden--visually\" id=\"sk-estimator-id-5\" type=\"checkbox\" checked><label for=\"sk-estimator-id-5\" class=\"sk-toggleable__label sk-toggleable__label-arrow\">KNeighborsRegressor</label><div class=\"sk-toggleable__content\"><pre>KNeighborsRegressor(leaf_size=50, n_jobs=-1, n_neighbors=3)</pre></div></div></div></div></div>"
      ],
      "text/plain": [
       "KNeighborsRegressor(leaf_size=50, n_jobs=-1, n_neighbors=3)"
      ]
     },
     "execution_count": 75,
     "metadata": {},
     "output_type": "execute_result"
    }
   ],
   "source": [
    "neighbor_1 = KNeighborsRegressor(n_neighbors=3,\n",
    "                                 weights='uniform',\n",
    "                                 algorithm='auto',\n",
    "                                 leaf_size=50,\n",
    "                                 p=2,\n",
    "                                 metric='minkowski',\n",
    "                                 metric_params=None,\n",
    "                                 n_jobs=-1,\n",
    "                            )\n",
    "neighbor_1.fit(X_train,y_train)"
   ]
  },
  {
   "cell_type": "code",
   "execution_count": 76,
   "id": "e440a7a8",
   "metadata": {},
   "outputs": [],
   "source": [
    "neighbor_y_pred = neighbor_1.predict(X_test)"
   ]
  },
  {
   "cell_type": "code",
   "execution_count": 77,
   "id": "77847713",
   "metadata": {},
   "outputs": [],
   "source": [
    "neighbor_score = metrics.r2_score(y_test,neighbor_y_pred)"
   ]
  },
  {
   "cell_type": "code",
   "execution_count": 78,
   "id": "92dfb4c9",
   "metadata": {},
   "outputs": [
    {
     "data": {
      "text/plain": [
       "0.63464785615165"
      ]
     },
     "execution_count": 78,
     "metadata": {},
     "output_type": "execute_result"
    }
   ],
   "source": [
    "neighbor_score"
   ]
  },
  {
   "cell_type": "code",
   "execution_count": 74,
   "id": "54cfb620",
   "metadata": {},
   "outputs": [],
   "source": [
    "pickle.dump(neighbor,open('laptop_price_predictor.pkl','wb'))"
   ]
  },
  {
   "cell_type": "code",
   "execution_count": null,
   "id": "612810c3",
   "metadata": {},
   "outputs": [],
   "source": [
    "model = pickle.load(open('laptop_price_predictor.pkl','rb'))"
   ]
  },
  {
   "cell_type": "code",
   "execution_count": 79,
   "id": "457312a6",
   "metadata": {},
   "outputs": [
    {
     "data": {
      "text/plain": [
       "['laptop_price_predictor.job']"
      ]
     },
     "execution_count": 79,
     "metadata": {},
     "output_type": "execute_result"
    }
   ],
   "source": [
    "joblib.dump(randforest,'laptop_price_predictor.job')"
   ]
  },
  {
   "cell_type": "code",
   "execution_count": 81,
   "id": "f92da61c",
   "metadata": {},
   "outputs": [],
   "source": [
    "dataset.to_csv('laptop_details_encoder.csv')"
   ]
  },
  {
   "cell_type": "code",
   "execution_count": null,
   "id": "9bb76df5",
   "metadata": {},
   "outputs": [],
   "source": [
    "# Thank You!"
   ]
  }
 ],
 "metadata": {
  "kernelspec": {
   "display_name": "Python 3 (ipykernel)",
   "language": "python",
   "name": "python3"
  },
  "language_info": {
   "codemirror_mode": {
    "name": "ipython",
    "version": 3
   },
   "file_extension": ".py",
   "mimetype": "text/x-python",
   "name": "python",
   "nbconvert_exporter": "python",
   "pygments_lexer": "ipython3",
   "version": "3.10.5"
  }
 },
 "nbformat": 4,
 "nbformat_minor": 5
}
